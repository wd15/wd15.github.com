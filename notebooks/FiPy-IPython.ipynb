{
 "metadata": {
  "name": ""
 },
 "nbformat": 3,
 "nbformat_minor": 0,
 "worksheets": [
  {
   "cells": [
    {
     "cell_type": "markdown",
     "metadata": {},
     "source": [
      "# FiPy Parallel Benchmarks and Running Fipy in IPython\n",
      "\n",
      "The main goal of this notebook is to provide some benchmarks for running FiPy in parallel on a workstation as well as on a larger cluster. The first part of the notebook demonstrates using FiPy in parallel with IPython's parallel architecure. I think that using FiPy interactively in parallel is very useful, especially for demonstration purposes. Although we have tested FiPy in the past up to 64 nodes, there is no where on the web where the numbers are posted. I hope to address that with this notebook so that there is at least some numbers that can be referred back to in the future.\n",
      "\n",
      "## FiPy in IPython\n",
      "\n",
      "FiPy uses both `mpi4py` and `PyTrilinos`, which both require that the IPython parallel engines are lauched with MPI support using\n",
      "\n",
      "    $ ipcluster start -n 4 --engines=MPIEngineSetLauncher\n",
      "   \n",
      "To test that FiPy is working correctly in IPython, run the following."
     ]
    },
    {
     "cell_type": "code",
     "collapsed": false,
     "input": [
      "from IPython.parallel import Client\n",
      "\n",
      "c = Client()\n",
      "\n",
      "view = c[:]\n",
      "view.block = True\n",
      "view.activate() # enable magics\n",
      "\n",
      "%px import fipy as fp\n",
      "%px procID = fp.parallelComm.procID\n",
      "%px Nproc = fp.parallelComm.Nproc\n",
      "\n",
      "print view['procID']\n",
      "print view['Nproc']"
     ],
     "language": "python",
     "metadata": {},
     "outputs": [
      {
       "output_type": "stream",
       "stream": "stdout",
       "text": [
        "[1, 2, 0, 3]\n",
        "[4, 4, 4, 4]\n"
       ]
      }
     ],
     "prompt_number": 21
    },
    {
     "cell_type": "markdown",
     "metadata": {},
     "source": [
      "The `procID`s should be different.\n",
      "\n",
      "The following example is a diffusion problem on a 3D grid. The domain is initialized with a random field and a time step of `dt=1.0` is made. Using the `%%px` magic means that this is executed in parallel on all 4 nodes. The `GmshGrid3D` is used to obtain an opimal partition using METIS. The regular `Grid3D` class only uses slices, which is highly suboptimal."
     ]
    },
    {
     "cell_type": "code",
     "collapsed": false,
     "input": [
      "%%px\n",
      "\n",
      "import fipy as fp\n",
      "import numpy as np\n",
      "np.random.seed(1)\n",
      "L = 1.\n",
      "N = 60\n",
      "m = fp.GmshGrid3D(nx=N, ny=N, nz=N, dx=L / N, dy=L / N, dz=L / N)\n",
      "v = fp.CellVariable(mesh=m)\n",
      "v0 = np.random.random(m.numberOfCells)\n",
      "eqn = fp.TransientTerm() == fp.DiffusionTerm()\n",
      "v[:] = v0.copy()\n",
      "eqn.solve(v, dt=1.)\n",
      "\n",
      "%macro -q fipy_setup_parallel 3-13\n",
      "\n",
      "%timeit v[:] = v0.copy(); eqn.solve(v, dt=1.)"
     ],
     "language": "python",
     "metadata": {},
     "outputs": [
      {
       "output_type": "stream",
       "stream": "stdout",
       "text": [
        "[stdout:0] 1 loops, best of 3: 2.47 s per loop\n",
        "[stdout:1] 1 loops, best of 3: 2.47 s per loop\n",
        "[stdout:2] 1 loops, best of 3: 2.47 s per loop\n",
        "[stdout:3] 1 loops, best of 3: 2.47 s per loop\n"
       ]
      }
     ],
     "prompt_number": 34
    },
    {
     "cell_type": "markdown",
     "metadata": {},
     "source": [
      "The above cell execites two time steps, but only the second step is actually. FiPy does a lot of memory allocation on the first step so the first step is not typical of the run times for subsequent steps. For most \"real\" simulations, the setup time is inconsequatnial compared to running hundreds of time steps. In parallel on 4 processors the time taken on my laptop is 2.47 s. Let's see how fast this is in serial."
     ]
    },
    {
     "cell_type": "code",
     "collapsed": false,
     "input": [
      "import fipy as fp\n",
      "import numpy as np\n",
      "\n",
      "np.random.seed(1)\n",
      "L = 1.\n",
      "N = 60\n",
      "m = fp.GmshGrid3D(nx=N, ny=N, nz=N, dx=L / N, dy=L / N, dz=L / N)\n",
      "v = fp.CellVariable(mesh=m)\n",
      "v0 = np.random.random(m.numberOfCells)\n",
      "eqn = fp.TransientTerm() == fp.DiffusionTerm()\n",
      "v[:] = v0.copy()\n",
      "eqn.solve(v, dt=1.)\n",
      "\n",
      "%timeit v[:] = v0.copy(); eqn.solve(v, dt=1.)"
     ],
     "language": "python",
     "metadata": {},
     "outputs": [
      {
       "output_type": "stream",
       "stream": "stdout",
       "text": [
        "1 loops, best of 3: 2.56 s per loop\n"
       ]
      }
     ],
     "prompt_number": 23
    },
    {
     "cell_type": "markdown",
     "metadata": {},
     "source": [
      "It's faster in serial than in parallel. That isn't good. What's going on? Most of this is because FiPy is not consistent in its use of solver choices. Firstly, in FiPy uses different solver suites in both by default."
     ]
    },
    {
     "cell_type": "code",
     "collapsed": false,
     "input": [
      "%px print eqn.getDefaultSolver().__class__\n",
      "print eqn.getDefaultSolver().__class__"
     ],
     "language": "python",
     "metadata": {},
     "outputs": [
      {
       "output_type": "stream",
       "stream": "stdout",
       "text": [
        "[stdout:0] <class 'fipy.solvers.trilinos.linearGMRESSolver.LinearGMRESSolver'>\n",
        "[stdout:1] <class 'fipy.solvers.trilinos.linearGMRESSolver.LinearGMRESSolver'>\n",
        "[stdout:2] <class 'fipy.solvers.trilinos.linearGMRESSolver.LinearGMRESSolver'>\n",
        "[stdout:3] <class 'fipy.solvers.trilinos.linearGMRESSolver.LinearGMRESSolver'>\n",
        "<class 'fipy.solvers.pysparse.linearPCGSolver.LinearPCGSolver'>\n"
       ]
      }
     ],
     "prompt_number": 24
    },
    {
     "cell_type": "markdown",
     "metadata": {},
     "source": [
      "On top of this each solver is using a different preconditioner. Instead if letting FiPy choose it's default solver, let's instatiate the solver we want. Firstly let's try solving with Trilinos in serial"
     ]
    },
    {
     "cell_type": "code",
     "collapsed": false,
     "input": [
      "import fipy as fp\n",
      "import numpy as np\n",
      "\n",
      "import fipy.solvers.trilinos as solvers\n",
      "solver = solvers.linearPCGSolver.LinearPCGSolver(precon=None)\n",
      "\n",
      "np.random.seed(1)\n",
      "L = 1.\n",
      "N = 60\n",
      "m = fp.GmshGrid3D(nx=N, ny=N, nz=N, dx=L / N, dy=L / N, dz=L / N)\n",
      "v = fp.CellVariable(mesh=m)\n",
      "v0 = np.random.random(m.numberOfCells)\n",
      "eqn = fp.TransientTerm() == fp.DiffusionTerm()\n",
      "v[:] = v0.copy()\n",
      "eqn.solve(v, dt=1., solver=solver)\n",
      "\n",
      "%timeit v[:] = v0.copy(); eqn.solve(v, dt=1., solver=solver)"
     ],
     "language": "python",
     "metadata": {},
     "outputs": [
      {
       "output_type": "stream",
       "stream": "stdout",
       "text": [
        "1 loops, best of 3: 2.48 s per loop\n"
       ]
      }
     ],
     "prompt_number": 30
    },
    {
     "cell_type": "markdown",
     "metadata": {},
     "source": [
      "The time taken with a Trilinos solver is now more in line with the PySparse solvers. Although the residual calculation and preconditioners are still not exactly the same. How does this work in parallel?"
     ]
    },
    {
     "cell_type": "code",
     "collapsed": false,
     "input": [
      "%%px\n",
      "\n",
      "import fipy as fp\n",
      "import numpy as np\n",
      "\n",
      "import fipy.solvers.trilinos as solvers\n",
      "solver = solvers.linearPCGSolver.LinearPCGSolver(precon=None)\n",
      "\n",
      "np.random.seed(1)\n",
      "L = 1.\n",
      "N = 60\n",
      "m = fp.GmshGrid3D(nx=N, ny=N, nz=N, dx=L / N, dy=L / N, dz=L / N)\n",
      "v = fp.CellVariable(mesh=m)\n",
      "v0 = np.random.random(m.numberOfCells)\n",
      "eqn = fp.TransientTerm() == fp.DiffusionTerm()\n",
      "v[:] = v0.copy()\n",
      "eqn.solve(v, dt=1., solver=solver)\n",
      "\n",
      "%timeit v[:] = v0.copy(); eqn.solve(v, dt=1., solver=solver)"
     ],
     "language": "python",
     "metadata": {},
     "outputs": [
      {
       "output_type": "stream",
       "stream": "stdout",
       "text": [
        "[stdout:0] 1 loops, best of 3: 1.53 s per loop\n",
        "[stdout:1] 1 loops, best of 3: 1.53 s per loop\n",
        "[stdout:2] 1 loops, best of 3: 1.53 s per loop\n",
        "[stdout:3] 1 loops, best of 3: 1.53 s per loop\n"
       ]
      }
     ],
     "prompt_number": 29
    },
    {
     "cell_type": "markdown",
     "metadata": {},
     "source": [
      "We now see some speed up with 4 processors, a speed up of 1.6. Not great, but at least it's in the right direction. One thing we can do is compare the speed up for different sized meshes. In order to capture the timing output, we will switch over to using the `timeit` module directly instead of the magic."
     ]
    },
    {
     "cell_type": "code",
     "collapsed": false,
     "input": [
      "sss = 'aaa: {0}'"
     ],
     "language": "python",
     "metadata": {},
     "outputs": [],
     "prompt_number": 53
    },
    {
     "cell_type": "code",
     "collapsed": false,
     "input": [
      "px"
     ],
     "language": "python",
     "metadata": {},
     "outputs": [],
     "prompt_number": 68
    },
    {
     "cell_type": "code",
     "collapsed": false,
     "input": [
      "setup = '''\n",
      "import fipy as fp\n",
      "import numpy as np\n",
      "import fipy.solvers.trilinos as solvers\n",
      "precon = solvers.preconditioners.jacobiPreconditioner.JacobiPreconditioner()\n",
      "solver = solvers.linearPCGSolver.LinearPCGSolver(precon=precon)\n",
      "np.random.seed(1)\n",
      "L = 1.\n",
      "N = {N:d}\n",
      "m = fp.GmshGrid3D(nx=N, ny=N, nz=N, dx=L / N, dy=L / N, dz=L / N)\n",
      "v = fp.CellVariable(mesh=m)\n",
      "v0 = np.random.random(m.numberOfCells)\n",
      "v[:] = v0.copy()\n",
      "eqn = fp.TransientTerm() == fp.DiffusionTerm()\n",
      "eqn.solve(v, dt=1., solver=solver)\n",
      "v[:] = v0.copy()\n",
      "'''\n",
      "\n",
      "timeit_cmd = '''\n",
      "eqn.solve(v, dt=1., solver=solver)\n",
      "fp.parallelComm.Barrier()\n",
      "'''\n"
     ],
     "language": "python",
     "metadata": {},
     "outputs": [],
     "prompt_number": 63
    },
    {
     "cell_type": "code",
     "collapsed": false,
     "input": [
      "import timeit\n",
      "%px import timeit\n",
      "\n",
      "attempts = 3\n",
      "\n",
      "view['timeit_cmd'] = timeit_cmd\n",
      "view['attempts'] = attempts\n",
      "view['setup'] = setup\n",
      "\n",
      "parallelTimes = []\n",
      "serialTimes = []\n",
      "\n",
      "for N in (10, 20, 30):\n",
      "    ## parallel\n",
      "    view['N'] = N\n",
      "    %px timer = timeit.Timer(timeit_cmd, setup=setup.format(N=N))\n",
      "    %px times = timer.repeat(attempts, 1)\n",
      "    print view['times']\n",
      "    parallelTimes.append(max(np.array(view['times']).min(axis=1)))\n",
      "    ## serial\n",
      "    timer = timeit.Timer(timeit_cmd, setup=setup.format(N=N))\n",
      "    times = timer.repeat(attempts, 1)\n",
      "    print times\n",
      "    serialTimes.append(min(times))\n",
      "    \n",
      "print parallelTimes\n",
      "print serialTimes"
     ],
     "language": "python",
     "metadata": {},
     "outputs": [
      {
       "output_type": "stream",
       "stream": "stdout",
       "text": [
        "[[0.01250600814819336, 0.011723995208740234, 0.011502981185913086], [0.012513875961303711, 0.011731147766113281, 0.011513948440551758], [0.012495040893554688, 0.011711835861206055, 0.01143789291381836], [0.012508869171142578, 0.011727094650268555, 0.011508941650390625]]\n",
        "[0.013857126235961914, 0.013602018356323242, 0.013650894165039062]"
       ]
      },
      {
       "output_type": "stream",
       "stream": "stdout",
       "text": [
        "\n",
        "[[0.031170129776000977, 0.030835866928100586, 0.03145599365234375], [0.031232118606567383, 0.030850887298583984, 0.0315248966217041], [0.031231164932250977, 0.030843019485473633, 0.03151392936706543], [0.031234025955200195, 0.030850887298583984, 0.0315248966217041]]"
       ]
      },
      {
       "output_type": "stream",
       "stream": "stdout",
       "text": [
        "\n",
        "[0.0752711296081543, 0.0673830509185791, 0.06911706924438477]"
       ]
      },
      {
       "output_type": "stream",
       "stream": "stdout",
       "text": [
        "\n",
        "[[0.14122915267944336, 0.10024785995483398, 0.10223889350891113], [0.141279935836792, 0.1006629467010498, 0.10224103927612305], [0.14092612266540527, 0.10030102729797363, 0.10218286514282227], [0.14092302322387695, 0.10065793991088867, 0.10227298736572266]]"
       ]
      },
      {
       "output_type": "stream",
       "stream": "stdout",
       "text": [
        "\n",
        "[0.25110387802124023, 0.25109004974365234, 0.2745988368988037]"
       ]
      },
      {
       "output_type": "stream",
       "stream": "stdout",
       "text": [
        "\n",
        "[0.011513948440551758, 0.030850887298583984, 0.1006629467010498]\n",
        "[0.013602018356323242, 0.0673830509185791, 0.25109004974365234]\n"
       ]
      }
     ],
     "prompt_number": 76
    },
    {
     "cell_type": "markdown",
     "metadata": {},
     "source": [
      "Other stuff\n",
      "\n",
      " * FiPy can't be run on different numbers of processors\n",
      "    \n",
      " * Show that the IPython engines can be launched with mpi4py and pytrilinos support.\n",
      " \n",
      " * speeeds up won't be so good as this problem doesn't have much matrix building"
     ]
    },
    {
     "cell_type": "code",
     "collapsed": false,
     "input": [
      "import timeit\n",
      "timer = timeit.Timer(timeit_cmd, setup=setup)\n",
      "help(timer.repeat)"
     ],
     "language": "python",
     "metadata": {},
     "outputs": [
      {
       "output_type": "stream",
       "stream": "stdout",
       "text": [
        "Help on method repeat in module timeit:\n",
        "\n",
        "repeat(self, repeat=3, number=1000000) method of timeit.Timer instance\n",
        "    Call timeit() a few times.\n",
        "    \n",
        "    This is a convenience function that calls the timeit()\n",
        "    repeatedly, returning a list of results.  The first argument\n",
        "    specifies how many times to call timeit(), defaulting to 3;\n",
        "    the second argument specifies the timer argument, defaulting\n",
        "    to one million.\n",
        "    \n",
        "    Note: it's tempting to calculate mean and standard deviation\n",
        "    from the result vector and report these.  However, this is not\n",
        "    very useful.  In a typical case, the lowest value gives a\n",
        "    lower bound for how fast your machine can run the given code\n",
        "    snippet; higher values in the result vector are typically not\n",
        "    caused by variability in Python's speed, but by other\n",
        "    processes interfering with your timing accuracy.  So the min()\n",
        "    of the result is probably the only number you should be\n",
        "    interested in.  After that, you should look at the entire\n",
        "    vector and apply common sense rather than statistics.\n",
        "\n"
       ]
      }
     ],
     "prompt_number": 52
    },
    {
     "cell_type": "code",
     "collapsed": false,
     "input": [
      "import timeit\n",
      "\n",
      "attempts = 1\n",
      "timer = timeit.Timer(timeit_cmd, setup=setup)\n",
      "times = timer.repeat(attempts, 1)\n",
      "print times\n",
      "#if fp.parallelComm.procID == 0:\n",
      "#    print 'Minimum time step duration from {0} attempts: {1:1.3f} (s)'.format(attempts, min(times))"
     ],
     "language": "python",
     "metadata": {},
     "outputs": [
      {
       "output_type": "stream",
       "stream": "stdout",
       "text": [
        "[2.581156015396118]\n"
       ]
      }
     ],
     "prompt_number": 16
    },
    {
     "cell_type": "code",
     "collapsed": false,
     "input": [
      "\n",
      "import numpy as np\n",
      "import fipy.solvers\n",
      "pysparse_solvers = fipy.solvers.pysparse\n",
      "solvers = fipy.solvers.trilinos\n",
      "precon = solvers.preconditioners.jacobiPreconditioner.JacobiPreconditioner()\n",
      "import fipy as vp\n",
      "solver = solvers.linearPCGSolver.LinearPCGSolver(precon=precon)\n",
      "np.random.seed(1)\n",
      "L = 1.\n",
      "N = 10\n",
      "m = fp.GmshGrid3D(nx=N, ny=N, nz=N, dx=L / N, dy=L / N, dz=L / N)\n",
      "v = fp.CellVariable(mesh=m)\n",
      "v0 = np.random.random(m.numberOfCells)\n",
      "v[:] = v0.copy()\n",
      "eqn = fp.TransientTerm() == fp.DiffusionTerm()\n",
      "eqn.solve(v, dt=1., solver=solver)\n",
      "v[:] = v0.copy()\n"
     ],
     "language": "python",
     "metadata": {},
     "outputs": [
      {
       "ename": "AttributeError",
       "evalue": "'module' object has no attribute 'trilinos'",
       "output_type": "pyerr",
       "traceback": [
        "\u001b[1;31m---------------------------------------------------------------------------\u001b[0m\n\u001b[1;31mAttributeError\u001b[0m                            Traceback (most recent call last)",
        "\u001b[1;32m<ipython-input-1-2e3c392513b5>\u001b[0m in \u001b[0;36m<module>\u001b[1;34m()\u001b[0m\n\u001b[0;32m      3\u001b[0m \u001b[1;32mimport\u001b[0m \u001b[0mfipy\u001b[0m\u001b[1;33m.\u001b[0m\u001b[0msolvers\u001b[0m\u001b[1;33m\u001b[0m\u001b[0m\n\u001b[0;32m      4\u001b[0m \u001b[0mpysparse_solvers\u001b[0m \u001b[1;33m=\u001b[0m \u001b[0mfipy\u001b[0m\u001b[1;33m.\u001b[0m\u001b[0msolvers\u001b[0m\u001b[1;33m.\u001b[0m\u001b[0mpysparse\u001b[0m\u001b[1;33m\u001b[0m\u001b[0m\n\u001b[1;32m----> 5\u001b[1;33m \u001b[0msolvers\u001b[0m \u001b[1;33m=\u001b[0m \u001b[0mfipy\u001b[0m\u001b[1;33m.\u001b[0m\u001b[0msolvers\u001b[0m\u001b[1;33m.\u001b[0m\u001b[0mtrilinos\u001b[0m\u001b[1;33m\u001b[0m\u001b[0m\n\u001b[0m\u001b[0;32m      6\u001b[0m \u001b[0mprecon\u001b[0m \u001b[1;33m=\u001b[0m \u001b[0msolvers\u001b[0m\u001b[1;33m.\u001b[0m\u001b[0mpreconditioners\u001b[0m\u001b[1;33m.\u001b[0m\u001b[0mjacobiPreconditioner\u001b[0m\u001b[1;33m.\u001b[0m\u001b[0mJacobiPreconditioner\u001b[0m\u001b[1;33m(\u001b[0m\u001b[1;33m)\u001b[0m\u001b[1;33m\u001b[0m\u001b[0m\n\u001b[0;32m      7\u001b[0m \u001b[1;32mimport\u001b[0m \u001b[0mfipy\u001b[0m \u001b[1;32mas\u001b[0m \u001b[0mvp\u001b[0m\u001b[1;33m\u001b[0m\u001b[0m\n",
        "\u001b[1;31mAttributeError\u001b[0m: 'module' object has no attribute 'trilinos'"
       ]
      }
     ],
     "prompt_number": 1
    },
    {
     "cell_type": "code",
     "collapsed": false,
     "input": [
      "%%px\n",
      "import timeit\n",
      "\n",
      "attempts = 1\n",
      "\n",
      "timer = timeit.Timer(timeit_cmd, setup=setup)\n",
      "times = timer.repeat(attempts, 1)\n",
      "\n",
      "print times']\n",
      "#if fp.parallelComm.procID == 0:\n",
      "#    print 'Minimum time step duration from {0} attempts: {1:1.3f} (s)'.format(attempts, min(times))"
     ],
     "language": "python",
     "metadata": {},
     "outputs": [
      {
       "ename": "CompositeError",
       "evalue": "one or more exceptions from call to method: execute\n[0:execute]: NameError: name 'view' is not defined\n[1:execute]: NameError: name 'view' is not defined\n[2:execute]: NameError: name 'view' is not defined\n[3:execute]: NameError: name 'view' is not defined\n.... 4 more exceptions ...",
       "output_type": "pyerr",
       "traceback": [
        "[0:execute]: ",
        "\u001b[1;31m---------------------------------------------------------------------------\u001b[0m",
        "\u001b[1;31mNameError\u001b[0m                                 Traceback (most recent call last)\u001b[1;32m<ipython-input-9-88ee7a9bb1ba>\u001b[0m in \u001b[0;36m<module>\u001b[1;34m()\u001b[0m",
        "\u001b[0;32m      6\u001b[0m \u001b[0mtimes\u001b[0m \u001b[1;33m=\u001b[0m \u001b[0mtimer\u001b[0m\u001b[1;33m.\u001b[0m\u001b[0mrepeat\u001b[0m\u001b[1;33m(\u001b[0m\u001b[0mattempts\u001b[0m\u001b[1;33m,\u001b[0m \u001b[1;36m1\u001b[0m\u001b[1;33m)\u001b[0m\u001b[1;33m\u001b[0m\u001b[0m",
        "\u001b[0;32m      7\u001b[0m \u001b[1;33m\u001b[0m\u001b[0m",
        "\u001b[1;32m----> 8\u001b[1;33m \u001b[1;32mprint\u001b[0m \u001b[0mview\u001b[0m\u001b[1;33m[\u001b[0m\u001b[1;34m'times'\u001b[0m\u001b[1;33m]\u001b[0m\u001b[1;33m\u001b[0m\u001b[0m",
        "\u001b[0m\u001b[0;32m      9\u001b[0m \u001b[1;31m#if fp.parallelComm.procID == 0:\u001b[0m\u001b[1;33m\u001b[0m\u001b[1;33m\u001b[0m\u001b[0m",
        "\u001b[0;32m     10\u001b[0m \u001b[1;31m#    print 'Minimum time step duration from {0} attempts: {1:1.3f} (s)'.format(attempts, min(times))\u001b[0m\u001b[1;33m\u001b[0m\u001b[1;33m\u001b[0m\u001b[0m",
        "\u001b[1;31mNameError\u001b[0m: name 'view' is not defined",
        "",
        "[1:execute]: ",
        "\u001b[1;31m---------------------------------------------------------------------------\u001b[0m",
        "\u001b[1;31mNameError\u001b[0m                                 Traceback (most recent call last)\u001b[1;32m<ipython-input-9-88ee7a9bb1ba>\u001b[0m in \u001b[0;36m<module>\u001b[1;34m()\u001b[0m",
        "\u001b[0;32m      6\u001b[0m \u001b[0mtimes\u001b[0m \u001b[1;33m=\u001b[0m \u001b[0mtimer\u001b[0m\u001b[1;33m.\u001b[0m\u001b[0mrepeat\u001b[0m\u001b[1;33m(\u001b[0m\u001b[0mattempts\u001b[0m\u001b[1;33m,\u001b[0m \u001b[1;36m1\u001b[0m\u001b[1;33m)\u001b[0m\u001b[1;33m\u001b[0m\u001b[0m",
        "\u001b[0;32m      7\u001b[0m \u001b[1;33m\u001b[0m\u001b[0m",
        "\u001b[1;32m----> 8\u001b[1;33m \u001b[1;32mprint\u001b[0m \u001b[0mview\u001b[0m\u001b[1;33m[\u001b[0m\u001b[1;34m'times'\u001b[0m\u001b[1;33m]\u001b[0m\u001b[1;33m\u001b[0m\u001b[0m",
        "\u001b[0m\u001b[0;32m      9\u001b[0m \u001b[1;31m#if fp.parallelComm.procID == 0:\u001b[0m\u001b[1;33m\u001b[0m\u001b[1;33m\u001b[0m\u001b[0m",
        "\u001b[0;32m     10\u001b[0m \u001b[1;31m#    print 'Minimum time step duration from {0} attempts: {1:1.3f} (s)'.format(attempts, min(times))\u001b[0m\u001b[1;33m\u001b[0m\u001b[1;33m\u001b[0m\u001b[0m",
        "\u001b[1;31mNameError\u001b[0m: name 'view' is not defined",
        "",
        "[2:execute]: ",
        "\u001b[1;31m---------------------------------------------------------------------------\u001b[0m",
        "\u001b[1;31mNameError\u001b[0m                                 Traceback (most recent call last)\u001b[1;32m<ipython-input-9-88ee7a9bb1ba>\u001b[0m in \u001b[0;36m<module>\u001b[1;34m()\u001b[0m",
        "\u001b[0;32m      6\u001b[0m \u001b[0mtimes\u001b[0m \u001b[1;33m=\u001b[0m \u001b[0mtimer\u001b[0m\u001b[1;33m.\u001b[0m\u001b[0mrepeat\u001b[0m\u001b[1;33m(\u001b[0m\u001b[0mattempts\u001b[0m\u001b[1;33m,\u001b[0m \u001b[1;36m1\u001b[0m\u001b[1;33m)\u001b[0m\u001b[1;33m\u001b[0m\u001b[0m",
        "\u001b[0;32m      7\u001b[0m \u001b[1;33m\u001b[0m\u001b[0m",
        "\u001b[1;32m----> 8\u001b[1;33m \u001b[1;32mprint\u001b[0m \u001b[0mview\u001b[0m\u001b[1;33m[\u001b[0m\u001b[1;34m'times'\u001b[0m\u001b[1;33m]\u001b[0m\u001b[1;33m\u001b[0m\u001b[0m",
        "\u001b[0m\u001b[0;32m      9\u001b[0m \u001b[1;31m#if fp.parallelComm.procID == 0:\u001b[0m\u001b[1;33m\u001b[0m\u001b[1;33m\u001b[0m\u001b[0m",
        "\u001b[0;32m     10\u001b[0m \u001b[1;31m#    print 'Minimum time step duration from {0} attempts: {1:1.3f} (s)'.format(attempts, min(times))\u001b[0m\u001b[1;33m\u001b[0m\u001b[1;33m\u001b[0m\u001b[0m",
        "\u001b[1;31mNameError\u001b[0m: name 'view' is not defined",
        "",
        "[3:execute]: ",
        "\u001b[1;31m---------------------------------------------------------------------------\u001b[0m",
        "\u001b[1;31mNameError\u001b[0m                                 Traceback (most recent call last)\u001b[1;32m<ipython-input-9-88ee7a9bb1ba>\u001b[0m in \u001b[0;36m<module>\u001b[1;34m()\u001b[0m",
        "\u001b[0;32m      6\u001b[0m \u001b[0mtimes\u001b[0m \u001b[1;33m=\u001b[0m \u001b[0mtimer\u001b[0m\u001b[1;33m.\u001b[0m\u001b[0mrepeat\u001b[0m\u001b[1;33m(\u001b[0m\u001b[0mattempts\u001b[0m\u001b[1;33m,\u001b[0m \u001b[1;36m1\u001b[0m\u001b[1;33m)\u001b[0m\u001b[1;33m\u001b[0m\u001b[0m",
        "\u001b[0;32m      7\u001b[0m \u001b[1;33m\u001b[0m\u001b[0m",
        "\u001b[1;32m----> 8\u001b[1;33m \u001b[1;32mprint\u001b[0m \u001b[0mview\u001b[0m\u001b[1;33m[\u001b[0m\u001b[1;34m'times'\u001b[0m\u001b[1;33m]\u001b[0m\u001b[1;33m\u001b[0m\u001b[0m",
        "\u001b[0m\u001b[0;32m      9\u001b[0m \u001b[1;31m#if fp.parallelComm.procID == 0:\u001b[0m\u001b[1;33m\u001b[0m\u001b[1;33m\u001b[0m\u001b[0m",
        "\u001b[0;32m     10\u001b[0m \u001b[1;31m#    print 'Minimum time step duration from {0} attempts: {1:1.3f} (s)'.format(attempts, min(times))\u001b[0m\u001b[1;33m\u001b[0m\u001b[1;33m\u001b[0m\u001b[0m",
        "\u001b[1;31mNameError\u001b[0m: name 'view' is not defined",
        "",
        "... 4 more exceptions ..."
       ]
      }
     ],
     "prompt_number": 6
    },
    {
     "cell_type": "code",
     "collapsed": false,
     "input": [
      "print view['times']"
     ],
     "language": "python",
     "metadata": {},
     "outputs": [
      {
       "output_type": "stream",
       "stream": "stdout",
       "text": [
        "[[0.019067764282226562], [0.01906299591064453], [0.019063949584960938], [0.018899917602539062]]\n"
       ]
      }
     ],
     "prompt_number": 8
    },
    {
     "cell_type": "code",
     "collapsed": false,
     "input": [
      "%px from mpi4py import MPI\n",
      "%px import sys"
     ],
     "language": "python",
     "metadata": {},
     "outputs": [],
     "prompt_number": 3
    },
    {
     "cell_type": "code",
     "collapsed": false,
     "input": [
      "#%px comm = MPI.COMM_SELF.Spawn(sys.executable, maxprocs=2)\n",
      "%px comm = MPI.COMM_WORLD\n",
      "%px nprocs = comm.Get_size()\n",
      "%px rank   = comm.Get_rank()\n",
      "print view['nprocs']"
     ],
     "language": "python",
     "metadata": {},
     "outputs": [
      {
       "output_type": "stream",
       "stream": "stdout",
       "text": [
        "[4, 4, 4, 4]\n"
       ]
      }
     ],
     "prompt_number": 4
    },
    {
     "cell_type": "code",
     "collapsed": false,
     "input": [
      "from mpi4py import MPI"
     ],
     "language": "python",
     "metadata": {},
     "outputs": [],
     "prompt_number": 7
    },
    {
     "cell_type": "code",
     "collapsed": false,
     "input": [
      "help(MPI.COMM_WORLD.Get_group)"
     ],
     "language": "python",
     "metadata": {},
     "outputs": [
      {
       "output_type": "stream",
       "stream": "stdout",
       "text": [
        "Help on built-in function Get_group:\n",
        "\n",
        "Get_group(...)\n",
        "    Comm.Get_group(self)\n",
        "    \n",
        "    Access the group associated with a communicator\n",
        "\n"
       ]
      }
     ],
     "prompt_number": 21
    },
    {
     "cell_type": "code",
     "collapsed": false,
     "input": [
      "g = MPI.COMM_WORLD.Get_group()"
     ],
     "language": "python",
     "metadata": {},
     "outputs": [],
     "prompt_number": 8
    },
    {
     "cell_type": "code",
     "collapsed": false,
     "input": [
      "g.Get_size()"
     ],
     "language": "python",
     "metadata": {},
     "outputs": [
      {
       "metadata": {},
       "output_type": "pyout",
       "prompt_number": 25,
       "text": [
        "1"
       ]
      }
     ],
     "prompt_number": 25
    },
    {
     "cell_type": "code",
     "collapsed": false,
     "input": [
      "%px g = comm.Get_group()\n",
      "%px g1 = g.Incl([0,1,2])\n",
      "%px new_comm = MPI.COMM_WORLD.Create(g1)\n",
      "#%px Nproc = new_comm.Get_rank()"
     ],
     "language": "python",
     "metadata": {},
     "outputs": [],
     "prompt_number": 14
    },
    {
     "cell_type": "code",
     "collapsed": false,
     "input": [
      "from IPython.parallel import Client\n",
      "\n",
      "c = Client()\n",
      "\n",
      "\n",
      "view = c[:2]\n",
      "view.block = True\n",
      "view.activate() # enable magics\n"
     ],
     "language": "python",
     "metadata": {},
     "outputs": [],
     "prompt_number": 1
    },
    {
     "cell_type": "code",
     "collapsed": false,
     "input": [
      "from mpi4py import MPI\n",
      "comm = MPI.COMM_SELF\n",
      "comm.Get_rank()"
     ],
     "language": "python",
     "metadata": {},
     "outputs": [
      {
       "metadata": {},
       "output_type": "pyout",
       "prompt_number": 3,
       "text": [
        "0"
       ]
      }
     ],
     "prompt_number": 3
    },
    {
     "cell_type": "code",
     "collapsed": false,
     "input": [
      "%px from mpi4py import MPI\n",
      "%px comm = MPI.COMM_WORLD\n",
      "%px g = comm.Get_group()\n",
      "%px g1 = g.Incl([0,1])\n",
      "%px new_comm = comm.Create(g1)"
     ],
     "language": "python",
     "metadata": {},
     "outputs": [],
     "prompt_number": "*"
    },
    {
     "cell_type": "code",
     "collapsed": false,
     "input": [
      "print view['rank']"
     ],
     "language": "python",
     "metadata": {},
     "outputs": [
      {
       "output_type": "stream",
       "stream": "stdout",
       "text": [
        "[0, 3]\n"
       ]
      }
     ],
     "prompt_number": 9
    },
    {
     "cell_type": "code",
     "collapsed": false,
     "input": [
      "help(g.Range_excl)"
     ],
     "language": "python",
     "metadata": {},
     "outputs": [
      {
       "output_type": "stream",
       "stream": "stdout",
       "text": [
        "Help on built-in function Range_excl:\n",
        "\n",
        "Range_excl(...)\n",
        "    Group.Range_excl(self, ranks)\n",
        "    \n",
        "    Create a new group by excluding ranges\n",
        "    of processes from an existing group\n",
        "\n"
       ]
      }
     ],
     "prompt_number": 9
    },
    {
     "cell_type": "code",
     "collapsed": false,
     "input": [
      "help(MPI.COMM_WORLD.Create)"
     ],
     "language": "python",
     "metadata": {},
     "outputs": [
      {
       "output_type": "stream",
       "stream": "stdout",
       "text": [
        "Help on built-in function Create:\n",
        "\n",
        "Create(...)\n",
        "    Intracomm.Create(self, Group group)\n",
        "    \n",
        "    Create intracommunicator from group\n",
        "\n"
       ]
      }
     ],
     "prompt_number": 10
    },
    {
     "cell_type": "code",
     "collapsed": false,
     "input": [],
     "language": "python",
     "metadata": {},
     "outputs": []
    }
   ],
   "metadata": {}
  }
 ]
}