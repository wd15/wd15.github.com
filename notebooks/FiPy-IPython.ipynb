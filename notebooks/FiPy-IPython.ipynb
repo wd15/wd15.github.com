{
 "metadata": {
  "name": ""
 },
 "nbformat": 3,
 "nbformat_minor": 0,
 "worksheets": [
  {
   "cells": [
    {
     "cell_type": "markdown",
     "metadata": {},
     "source": [
      "# Paralell FiPy in the IPython Notebook\n",
      "\n",
      "The aim in this notebook is to demonstrate the use of FiPy in parallel in the IPython notebook and to also run some efficiency tests. FiPy uses `mpi4py` and `PyTrilinos` so the engines need to be started using MPI.\n",
      "\n",
      "    $ ipcluster start -n 8 --engines=MPIEngineSetLauncher"
     ]
    },
    {
     "cell_type": "code",
     "collapsed": false,
     "input": [
      "from IPython.parallel import Client\n",
      "\n",
      "c = Client()\n",
      "\n",
      "view = c[:]\n",
      "view.block = True\n",
      "view.activate() # enable magics\n",
      "\n",
      "%px import fipy as fp\n",
      "%px procID = fp.parallelComm.procID\n",
      "%px Nproc = fp.parallelComm.Nproc\n",
      "\n",
      "print view['procID']\n",
      "print view['Nproc']"
     ],
     "language": "python",
     "metadata": {},
     "outputs": [
      {
       "output_type": "stream",
       "stream": "stdout",
       "text": [
        "[2, 6, 3, 4, 0, 7, 1, 5]\n",
        "[8, 8, 8, 8, 8, 8, 8, 8]\n"
       ]
      }
     ],
     "prompt_number": 3
    },
    {
     "cell_type": "code",
     "collapsed": false,
     "input": [
      "setup = '''\n",
      "import fipy as fp\n",
      "import numpy as np\n",
      "import fipy.solvers.trilinos as solvers\n",
      "precon = solvers.preconditioners.jacobiPreconditioner.JacobiPreconditioner()\n",
      "solver = solvers.linearPCGSolver.LinearPCGSolver(precon=precon)\n",
      "np.random.seed(1)\n",
      "L = 1.\n",
      "N = 60\n",
      "m = fp.GmshGrid3D(nx=N, ny=N, nz=N, dx=L / N, dy=L / N, dz=L / N)\n",
      "v = fp.CellVariable(mesh=m)\n",
      "v0 = np.random.random(m.numberOfCells)\n",
      "v[:] = v0.copy()\n",
      "eqn = fp.TransientTerm() == fp.DiffusionTerm()\n",
      "eqn.solve(v, dt=1., solver=solver)\n",
      "v[:] = v0.copy()\n",
      "'''\n",
      "\n",
      "timeit_cmd = '''\n",
      "eqn.solve(v, dt=1., solver=solver)\n",
      "fp.parallelComm.Barrier()\n",
      "'''\n",
      "\n",
      "view['setup'] = setup\n",
      "view['timeit_cmd'] = timeit_cmd\n",
      "\n",
      "%px import timeit\n",
      "%px attempts = 1\n",
      "%px timer = timeit.Timer(timeit_cmd, setup=setup)\n",
      "%px times = timer.repeat(attempts, 1)\n",
      "\n",
      "print view['times']\n",
      "#if fp.parallelComm.procID == 0:\n",
      "#    print 'Minimum time step duration from {0} attempts: {1:1.3f} (s)'.format(attempts, min(times))"
     ],
     "language": "python",
     "metadata": {},
     "outputs": [
      {
       "output_type": "stream",
       "stream": "stdout",
       "text": [
        "[[2.349140167236328], [2.3472111225128174], [2.3493399620056152], [2.3491389751434326], [2.3471758365631104], [2.349247932434082], [2.33686900138855], [2.3444759845733643]]\n"
       ]
      }
     ],
     "prompt_number": 15
    },
    {
     "cell_type": "code",
     "collapsed": false,
     "input": [
      "import timeit\n",
      "\n",
      "attempts = 1\n",
      "timer = timeit.Timer(timeit_cmd, setup=setup)\n",
      "times = timer.repeat(attempts, 1)\n",
      "print times\n",
      "#if fp.parallelComm.procID == 0:\n",
      "#    print 'Minimum time step duration from {0} attempts: {1:1.3f} (s)'.format(attempts, min(times))"
     ],
     "language": "python",
     "metadata": {},
     "outputs": [
      {
       "output_type": "stream",
       "stream": "stdout",
       "text": [
        "[2.581156015396118]\n"
       ]
      }
     ],
     "prompt_number": 16
    },
    {
     "cell_type": "code",
     "collapsed": false,
     "input": [
      "\n",
      "import numpy as np\n",
      "import fipy.solvers\n",
      "pysparse_solvers = fipy.solvers.pysparse\n",
      "solvers = fipy.solvers.trilinos\n",
      "precon = solvers.preconditioners.jacobiPreconditioner.JacobiPreconditioner()\n",
      "import fipy as vp\n",
      "solver = solvers.linearPCGSolver.LinearPCGSolver(precon=precon)\n",
      "np.random.seed(1)\n",
      "L = 1.\n",
      "N = 10\n",
      "m = fp.GmshGrid3D(nx=N, ny=N, nz=N, dx=L / N, dy=L / N, dz=L / N)\n",
      "v = fp.CellVariable(mesh=m)\n",
      "v0 = np.random.random(m.numberOfCells)\n",
      "v[:] = v0.copy()\n",
      "eqn = fp.TransientTerm() == fp.DiffusionTerm()\n",
      "eqn.solve(v, dt=1., solver=solver)\n",
      "v[:] = v0.copy()\n"
     ],
     "language": "python",
     "metadata": {},
     "outputs": [
      {
       "ename": "AttributeError",
       "evalue": "'module' object has no attribute 'trilinos'",
       "output_type": "pyerr",
       "traceback": [
        "\u001b[1;31m---------------------------------------------------------------------------\u001b[0m\n\u001b[1;31mAttributeError\u001b[0m                            Traceback (most recent call last)",
        "\u001b[1;32m<ipython-input-1-2e3c392513b5>\u001b[0m in \u001b[0;36m<module>\u001b[1;34m()\u001b[0m\n\u001b[0;32m      3\u001b[0m \u001b[1;32mimport\u001b[0m \u001b[0mfipy\u001b[0m\u001b[1;33m.\u001b[0m\u001b[0msolvers\u001b[0m\u001b[1;33m\u001b[0m\u001b[0m\n\u001b[0;32m      4\u001b[0m \u001b[0mpysparse_solvers\u001b[0m \u001b[1;33m=\u001b[0m \u001b[0mfipy\u001b[0m\u001b[1;33m.\u001b[0m\u001b[0msolvers\u001b[0m\u001b[1;33m.\u001b[0m\u001b[0mpysparse\u001b[0m\u001b[1;33m\u001b[0m\u001b[0m\n\u001b[1;32m----> 5\u001b[1;33m \u001b[0msolvers\u001b[0m \u001b[1;33m=\u001b[0m \u001b[0mfipy\u001b[0m\u001b[1;33m.\u001b[0m\u001b[0msolvers\u001b[0m\u001b[1;33m.\u001b[0m\u001b[0mtrilinos\u001b[0m\u001b[1;33m\u001b[0m\u001b[0m\n\u001b[0m\u001b[0;32m      6\u001b[0m \u001b[0mprecon\u001b[0m \u001b[1;33m=\u001b[0m \u001b[0msolvers\u001b[0m\u001b[1;33m.\u001b[0m\u001b[0mpreconditioners\u001b[0m\u001b[1;33m.\u001b[0m\u001b[0mjacobiPreconditioner\u001b[0m\u001b[1;33m.\u001b[0m\u001b[0mJacobiPreconditioner\u001b[0m\u001b[1;33m(\u001b[0m\u001b[1;33m)\u001b[0m\u001b[1;33m\u001b[0m\u001b[0m\n\u001b[0;32m      7\u001b[0m \u001b[1;32mimport\u001b[0m \u001b[0mfipy\u001b[0m \u001b[1;32mas\u001b[0m \u001b[0mvp\u001b[0m\u001b[1;33m\u001b[0m\u001b[0m\n",
        "\u001b[1;31mAttributeError\u001b[0m: 'module' object has no attribute 'trilinos'"
       ]
      }
     ],
     "prompt_number": 1
    },
    {
     "cell_type": "code",
     "collapsed": false,
     "input": [
      "%%px\n",
      "import timeit\n",
      "\n",
      "attempts = 1\n",
      "\n",
      "timer = timeit.Timer(timeit_cmd, setup=setup)\n",
      "times = timer.repeat(attempts, 1)\n",
      "\n",
      "print times']\n",
      "#if fp.parallelComm.procID == 0:\n",
      "#    print 'Minimum time step duration from {0} attempts: {1:1.3f} (s)'.format(attempts, min(times))"
     ],
     "language": "python",
     "metadata": {},
     "outputs": [
      {
       "ename": "CompositeError",
       "evalue": "one or more exceptions from call to method: execute\n[0:execute]: NameError: name 'view' is not defined\n[1:execute]: NameError: name 'view' is not defined\n[2:execute]: NameError: name 'view' is not defined\n[3:execute]: NameError: name 'view' is not defined\n.... 4 more exceptions ...",
       "output_type": "pyerr",
       "traceback": [
        "[0:execute]: ",
        "\u001b[1;31m---------------------------------------------------------------------------\u001b[0m",
        "\u001b[1;31mNameError\u001b[0m                                 Traceback (most recent call last)\u001b[1;32m<ipython-input-9-88ee7a9bb1ba>\u001b[0m in \u001b[0;36m<module>\u001b[1;34m()\u001b[0m",
        "\u001b[0;32m      6\u001b[0m \u001b[0mtimes\u001b[0m \u001b[1;33m=\u001b[0m \u001b[0mtimer\u001b[0m\u001b[1;33m.\u001b[0m\u001b[0mrepeat\u001b[0m\u001b[1;33m(\u001b[0m\u001b[0mattempts\u001b[0m\u001b[1;33m,\u001b[0m \u001b[1;36m1\u001b[0m\u001b[1;33m)\u001b[0m\u001b[1;33m\u001b[0m\u001b[0m",
        "\u001b[0;32m      7\u001b[0m \u001b[1;33m\u001b[0m\u001b[0m",
        "\u001b[1;32m----> 8\u001b[1;33m \u001b[1;32mprint\u001b[0m \u001b[0mview\u001b[0m\u001b[1;33m[\u001b[0m\u001b[1;34m'times'\u001b[0m\u001b[1;33m]\u001b[0m\u001b[1;33m\u001b[0m\u001b[0m",
        "\u001b[0m\u001b[0;32m      9\u001b[0m \u001b[1;31m#if fp.parallelComm.procID == 0:\u001b[0m\u001b[1;33m\u001b[0m\u001b[1;33m\u001b[0m\u001b[0m",
        "\u001b[0;32m     10\u001b[0m \u001b[1;31m#    print 'Minimum time step duration from {0} attempts: {1:1.3f} (s)'.format(attempts, min(times))\u001b[0m\u001b[1;33m\u001b[0m\u001b[1;33m\u001b[0m\u001b[0m",
        "\u001b[1;31mNameError\u001b[0m: name 'view' is not defined",
        "",
        "[1:execute]: ",
        "\u001b[1;31m---------------------------------------------------------------------------\u001b[0m",
        "\u001b[1;31mNameError\u001b[0m                                 Traceback (most recent call last)\u001b[1;32m<ipython-input-9-88ee7a9bb1ba>\u001b[0m in \u001b[0;36m<module>\u001b[1;34m()\u001b[0m",
        "\u001b[0;32m      6\u001b[0m \u001b[0mtimes\u001b[0m \u001b[1;33m=\u001b[0m \u001b[0mtimer\u001b[0m\u001b[1;33m.\u001b[0m\u001b[0mrepeat\u001b[0m\u001b[1;33m(\u001b[0m\u001b[0mattempts\u001b[0m\u001b[1;33m,\u001b[0m \u001b[1;36m1\u001b[0m\u001b[1;33m)\u001b[0m\u001b[1;33m\u001b[0m\u001b[0m",
        "\u001b[0;32m      7\u001b[0m \u001b[1;33m\u001b[0m\u001b[0m",
        "\u001b[1;32m----> 8\u001b[1;33m \u001b[1;32mprint\u001b[0m \u001b[0mview\u001b[0m\u001b[1;33m[\u001b[0m\u001b[1;34m'times'\u001b[0m\u001b[1;33m]\u001b[0m\u001b[1;33m\u001b[0m\u001b[0m",
        "\u001b[0m\u001b[0;32m      9\u001b[0m \u001b[1;31m#if fp.parallelComm.procID == 0:\u001b[0m\u001b[1;33m\u001b[0m\u001b[1;33m\u001b[0m\u001b[0m",
        "\u001b[0;32m     10\u001b[0m \u001b[1;31m#    print 'Minimum time step duration from {0} attempts: {1:1.3f} (s)'.format(attempts, min(times))\u001b[0m\u001b[1;33m\u001b[0m\u001b[1;33m\u001b[0m\u001b[0m",
        "\u001b[1;31mNameError\u001b[0m: name 'view' is not defined",
        "",
        "[2:execute]: ",
        "\u001b[1;31m---------------------------------------------------------------------------\u001b[0m",
        "\u001b[1;31mNameError\u001b[0m                                 Traceback (most recent call last)\u001b[1;32m<ipython-input-9-88ee7a9bb1ba>\u001b[0m in \u001b[0;36m<module>\u001b[1;34m()\u001b[0m",
        "\u001b[0;32m      6\u001b[0m \u001b[0mtimes\u001b[0m \u001b[1;33m=\u001b[0m \u001b[0mtimer\u001b[0m\u001b[1;33m.\u001b[0m\u001b[0mrepeat\u001b[0m\u001b[1;33m(\u001b[0m\u001b[0mattempts\u001b[0m\u001b[1;33m,\u001b[0m \u001b[1;36m1\u001b[0m\u001b[1;33m)\u001b[0m\u001b[1;33m\u001b[0m\u001b[0m",
        "\u001b[0;32m      7\u001b[0m \u001b[1;33m\u001b[0m\u001b[0m",
        "\u001b[1;32m----> 8\u001b[1;33m \u001b[1;32mprint\u001b[0m \u001b[0mview\u001b[0m\u001b[1;33m[\u001b[0m\u001b[1;34m'times'\u001b[0m\u001b[1;33m]\u001b[0m\u001b[1;33m\u001b[0m\u001b[0m",
        "\u001b[0m\u001b[0;32m      9\u001b[0m \u001b[1;31m#if fp.parallelComm.procID == 0:\u001b[0m\u001b[1;33m\u001b[0m\u001b[1;33m\u001b[0m\u001b[0m",
        "\u001b[0;32m     10\u001b[0m \u001b[1;31m#    print 'Minimum time step duration from {0} attempts: {1:1.3f} (s)'.format(attempts, min(times))\u001b[0m\u001b[1;33m\u001b[0m\u001b[1;33m\u001b[0m\u001b[0m",
        "\u001b[1;31mNameError\u001b[0m: name 'view' is not defined",
        "",
        "[3:execute]: ",
        "\u001b[1;31m---------------------------------------------------------------------------\u001b[0m",
        "\u001b[1;31mNameError\u001b[0m                                 Traceback (most recent call last)\u001b[1;32m<ipython-input-9-88ee7a9bb1ba>\u001b[0m in \u001b[0;36m<module>\u001b[1;34m()\u001b[0m",
        "\u001b[0;32m      6\u001b[0m \u001b[0mtimes\u001b[0m \u001b[1;33m=\u001b[0m \u001b[0mtimer\u001b[0m\u001b[1;33m.\u001b[0m\u001b[0mrepeat\u001b[0m\u001b[1;33m(\u001b[0m\u001b[0mattempts\u001b[0m\u001b[1;33m,\u001b[0m \u001b[1;36m1\u001b[0m\u001b[1;33m)\u001b[0m\u001b[1;33m\u001b[0m\u001b[0m",
        "\u001b[0;32m      7\u001b[0m \u001b[1;33m\u001b[0m\u001b[0m",
        "\u001b[1;32m----> 8\u001b[1;33m \u001b[1;32mprint\u001b[0m \u001b[0mview\u001b[0m\u001b[1;33m[\u001b[0m\u001b[1;34m'times'\u001b[0m\u001b[1;33m]\u001b[0m\u001b[1;33m\u001b[0m\u001b[0m",
        "\u001b[0m\u001b[0;32m      9\u001b[0m \u001b[1;31m#if fp.parallelComm.procID == 0:\u001b[0m\u001b[1;33m\u001b[0m\u001b[1;33m\u001b[0m\u001b[0m",
        "\u001b[0;32m     10\u001b[0m \u001b[1;31m#    print 'Minimum time step duration from {0} attempts: {1:1.3f} (s)'.format(attempts, min(times))\u001b[0m\u001b[1;33m\u001b[0m\u001b[1;33m\u001b[0m\u001b[0m",
        "\u001b[1;31mNameError\u001b[0m: name 'view' is not defined",
        "",
        "... 4 more exceptions ..."
       ]
      }
     ],
     "prompt_number": 6
    },
    {
     "cell_type": "code",
     "collapsed": false,
     "input": [
      "print view['times']"
     ],
     "language": "python",
     "metadata": {},
     "outputs": [
      {
       "output_type": "stream",
       "stream": "stdout",
       "text": [
        "[[0.019067764282226562], [0.01906299591064453], [0.019063949584960938], [0.018899917602539062]]\n"
       ]
      }
     ],
     "prompt_number": 8
    },
    {
     "cell_type": "code",
     "collapsed": false,
     "input": [
      "%px from mpi4py import MPI\n",
      "%px import sys"
     ],
     "language": "python",
     "metadata": {},
     "outputs": [],
     "prompt_number": 3
    },
    {
     "cell_type": "code",
     "collapsed": false,
     "input": [
      "#%px comm = MPI.COMM_SELF.Spawn(sys.executable, maxprocs=2)\n",
      "%px comm = MPI.COMM_WORLD\n",
      "%px nprocs = comm.Get_size()\n",
      "%px rank   = comm.Get_rank()\n",
      "print view['nprocs']"
     ],
     "language": "python",
     "metadata": {},
     "outputs": [
      {
       "output_type": "stream",
       "stream": "stdout",
       "text": [
        "[4, 4, 4, 4]\n"
       ]
      }
     ],
     "prompt_number": 4
    },
    {
     "cell_type": "code",
     "collapsed": false,
     "input": [
      "from mpi4py import MPI"
     ],
     "language": "python",
     "metadata": {},
     "outputs": [],
     "prompt_number": 7
    },
    {
     "cell_type": "code",
     "collapsed": false,
     "input": [
      "help(MPI.COMM_WORLD.Get_group)"
     ],
     "language": "python",
     "metadata": {},
     "outputs": [
      {
       "output_type": "stream",
       "stream": "stdout",
       "text": [
        "Help on built-in function Get_group:\n",
        "\n",
        "Get_group(...)\n",
        "    Comm.Get_group(self)\n",
        "    \n",
        "    Access the group associated with a communicator\n",
        "\n"
       ]
      }
     ],
     "prompt_number": 21
    },
    {
     "cell_type": "code",
     "collapsed": false,
     "input": [
      "g = MPI.COMM_WORLD.Get_group()"
     ],
     "language": "python",
     "metadata": {},
     "outputs": [],
     "prompt_number": 8
    },
    {
     "cell_type": "code",
     "collapsed": false,
     "input": [
      "g.Get_size()"
     ],
     "language": "python",
     "metadata": {},
     "outputs": [
      {
       "metadata": {},
       "output_type": "pyout",
       "prompt_number": 25,
       "text": [
        "1"
       ]
      }
     ],
     "prompt_number": 25
    },
    {
     "cell_type": "code",
     "collapsed": false,
     "input": [
      "%px g = comm.Get_group()\n",
      "%px g1 = g.Incl([0,1,2])\n",
      "%px new_comm = MPI.COMM_WORLD.Create(g1)\n",
      "#%px Nproc = new_comm.Get_rank()"
     ],
     "language": "python",
     "metadata": {},
     "outputs": [],
     "prompt_number": 14
    },
    {
     "cell_type": "code",
     "collapsed": false,
     "input": [
      "from IPython.parallel import Client\n",
      "\n",
      "c = Client()\n",
      "\n",
      "\n",
      "view = c[:2]\n",
      "view.block = True\n",
      "view.activate() # enable magics\n"
     ],
     "language": "python",
     "metadata": {},
     "outputs": [],
     "prompt_number": 1
    },
    {
     "cell_type": "code",
     "collapsed": false,
     "input": [
      "from mpi4py import MPI\n",
      "comm = MPI.COMM_SELF\n",
      "comm.Get_rank()"
     ],
     "language": "python",
     "metadata": {},
     "outputs": [
      {
       "metadata": {},
       "output_type": "pyout",
       "prompt_number": 3,
       "text": [
        "0"
       ]
      }
     ],
     "prompt_number": 3
    },
    {
     "cell_type": "code",
     "collapsed": false,
     "input": [
      "%px from mpi4py import MPI\n",
      "%px comm = MPI.COMM_WORLD\n",
      "%px g = comm.Get_group()\n",
      "%px g1 = g.Incl([0,1])\n",
      "%px new_comm = comm.Create(g1)"
     ],
     "language": "python",
     "metadata": {},
     "outputs": [],
     "prompt_number": "*"
    },
    {
     "cell_type": "code",
     "collapsed": false,
     "input": [
      "print view['rank']"
     ],
     "language": "python",
     "metadata": {},
     "outputs": [
      {
       "output_type": "stream",
       "stream": "stdout",
       "text": [
        "[0, 3]\n"
       ]
      }
     ],
     "prompt_number": 9
    },
    {
     "cell_type": "code",
     "collapsed": false,
     "input": [
      "help(g.Range_excl)"
     ],
     "language": "python",
     "metadata": {},
     "outputs": [
      {
       "output_type": "stream",
       "stream": "stdout",
       "text": [
        "Help on built-in function Range_excl:\n",
        "\n",
        "Range_excl(...)\n",
        "    Group.Range_excl(self, ranks)\n",
        "    \n",
        "    Create a new group by excluding ranges\n",
        "    of processes from an existing group\n",
        "\n"
       ]
      }
     ],
     "prompt_number": 9
    },
    {
     "cell_type": "code",
     "collapsed": false,
     "input": [
      "help(MPI.COMM_WORLD.Create)"
     ],
     "language": "python",
     "metadata": {},
     "outputs": [
      {
       "output_type": "stream",
       "stream": "stdout",
       "text": [
        "Help on built-in function Create:\n",
        "\n",
        "Create(...)\n",
        "    Intracomm.Create(self, Group group)\n",
        "    \n",
        "    Create intracommunicator from group\n",
        "\n"
       ]
      }
     ],
     "prompt_number": 10
    },
    {
     "cell_type": "code",
     "collapsed": false,
     "input": [],
     "language": "python",
     "metadata": {},
     "outputs": []
    }
   ],
   "metadata": {}
  }
 ]
}