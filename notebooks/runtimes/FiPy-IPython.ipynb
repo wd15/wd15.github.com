{
 "metadata": {
  "name": ""
 },
 "nbformat": 3,
 "nbformat_minor": 0,
 "worksheets": [
  {
   "cells": [
    {
     "cell_type": "markdown",
     "metadata": {},
     "source": [
      "# FiPy Parallel Benchmarks and Running Fipy in IPython\n",
      "\n",
      "The main goal of this notebook is to provide some benchmarks for\n",
      "running FiPy in parallel on a workstation as well as on a larger\n",
      "cluster. The first part of the notebook demonstrates using FiPy in\n",
      "parallel with IPython's parallel architecture. Using FiPy\n",
      "interactively in parallel is very useful, especially for demonstration\n",
      "purposes. Although we have tested FiPy in the past on up to 64 nodes,\n",
      "these results don't seem to be available on the web anywhere. I hope\n",
      "to address the lack of data for FiPy in parallel with this notebook.\n",
      "\n",
      "## FiPy in IPython\n",
      "\n",
      "FiPy uses both `mpi4py` and `PyTrilinos`, which both require that the\n",
      "IPython parallel engines are launched with MPI support using\n",
      "\n",
      "    $ ipcluster start -n 4 --engines=MPIEngineSetLauncher\n",
      "   \n",
      "To test that FiPy is working correctly in IPython, run the following."
     ]
    },
    {
     "cell_type": "code",
     "collapsed": false,
     "input": [
      "import pandas as pd"
     ],
     "language": "python",
     "metadata": {},
     "outputs": [],
     "prompt_number": 2
    },
    {
     "cell_type": "code",
     "collapsed": false,
     "input": [
      "from IPython.parallel import Client\n",
      "\n",
      "c = Client()\n",
      "\n",
      "view = c[:]\n",
      "view.block = True\n",
      "view.activate() # enable magics\n",
      "\n",
      "%px import fipy as fp\n",
      "%px procID = fp.parallelComm.procID\n",
      "%px Nproc = fp.parallelComm.Nproc\n",
      "\n",
      "print view['procID']\n",
      "print view['Nproc']"
     ],
     "language": "python",
     "metadata": {},
     "outputs": [
      {
       "output_type": "stream",
       "stream": "stdout",
       "text": [
        "[0, 3, 2, 1]\n",
        "[4, 4, 4, 4]\n"
       ]
      }
     ],
     "prompt_number": 231
    },
    {
     "cell_type": "markdown",
     "metadata": {},
     "source": [
      "The `procID`s should be different.\n",
      "\n",
      "Below we use a simple example to test FiPy in parallel. Just a\n",
      "diffusion problem on a 3D grid.  The domain is initialized with a\n",
      "random field. The `GmshGrid3D` class is used to obtain an optimal\n",
      "partition using METIS. The regular `Grid3D` class only uses slices,\n",
      "which is highly sub-optimal.\n"
     ]
    },
    {
     "cell_type": "code",
     "collapsed": false,
     "input": [
      "def setup(N):\n",
      "    import fipy as fp\n",
      "    import numpy as np\n",
      "    np.random.seed(1)\n",
      "    L = 1.\n",
      "    m = fp.GmshGrid3D(nx=N, ny=N, nz=N, dx=L / N, dy=L / N, dz=L / N)\n",
      "    v0 = 1.\n",
      "    for dim in range(3):\n",
      "        x = np.linspace(0., L, N)\n",
      "        fx = np.sum(np.array([np.sin(2 * x * np.pi * i * np.random.random()) / i for i in range(1, N)]), axis=0)\n",
      "        v0 = np.outer(v0, fx).flatten()\n",
      "    v = fp.CellVariable(mesh=m)\n",
      "    v0 = np.resize(v0, len(v)) ## Gmsh doesn't always give us the correct sized grid!\n",
      "    eqn = fp.TransientTerm(1e-3) == fp.DiffusionTerm()\n",
      "    v[:] = v0.copy()\n",
      "    return eqn, v, v0\n",
      "\n",
      "view['setup'] = setup"
     ],
     "language": "python",
     "metadata": {},
     "outputs": [],
     "prompt_number": 97
    },
    {
     "cell_type": "markdown",
     "metadata": {},
     "source": [
      "## Timings in parallel"
     ]
    },
    {
     "cell_type": "code",
     "collapsed": false,
     "input": [
      "%%px\n",
      "\n",
      "eqn, v, v0 = setup(60)\n",
      "eqn.solve(v, dt=1.)\n",
      "%timeit v[:] = v0.copy(); eqn.solve(v, dt=1.)"
     ],
     "language": "python",
     "metadata": {},
     "outputs": [
      {
       "output_type": "stream",
       "stream": "stdout",
       "text": [
        "[stdout:0] 1 loops, best of 3: 3.22 s per loop\n",
        "[stdout:1] 1 loops, best of 3: 3.22 s per loop\n",
        "[stdout:2] 1 loops, best of 3: 3.22 s per loop\n",
        "[stdout:3] 1 loops, best of 3: 3.22 s per loop\n"
       ]
      }
     ],
     "prompt_number": 217
    },
    {
     "cell_type": "markdown",
     "metadata": {},
     "source": [
      "The above cell executes two time steps, but only the second step is\n",
      "timed. FiPy does a lot of memory allocation on the first step so\n",
      "the first step is not typical of the run times for subsequent\n",
      "steps. For most \"real\" simulations, the setup time is inconsequential\n",
      "compared to running hundreds of time steps. In parallel on 4\n",
      "processors the time taken on my laptop is 3.22 s. Let's see how fast\n",
      "this is in serial."
     ]
    },
    {
     "cell_type": "markdown",
     "metadata": {},
     "source": [
      "## Timings in serial"
     ]
    },
    {
     "cell_type": "code",
     "collapsed": false,
     "input": [
      "eqn, v, v0 = setup(60)\n",
      "eqn.solve(v, dt=1.)\n",
      "%timeit v[:] = v0.copy(); eqn.solve(v, dt=1.)"
     ],
     "language": "python",
     "metadata": {},
     "outputs": [
      {
       "output_type": "stream",
       "stream": "stderr",
       "text": [
        "0 iterations: 317 / 1000 \n"
       ]
      },
      {
       "output_type": "stream",
       "stream": "stderr",
       "text": [
        "0 relres: 9.57194170017e-11\n"
       ]
      },
      {
       "output_type": "stream",
       "stream": "stderr",
       "text": [
        "0 iterations: 317 / 1000 \n"
       ]
      },
      {
       "output_type": "stream",
       "stream": "stderr",
       "text": [
        "0 relres: 9.57194170017e-11\n"
       ]
      },
      {
       "output_type": "stream",
       "stream": "stderr",
       "text": [
        "0 iterations: 317 / 1000 \n"
       ]
      },
      {
       "output_type": "stream",
       "stream": "stderr",
       "text": [
        "0 relres: 9.57194170017e-11\n"
       ]
      },
      {
       "output_type": "stream",
       "stream": "stderr",
       "text": [
        "0 iterations: 317 / 1000 \n"
       ]
      },
      {
       "output_type": "stream",
       "stream": "stderr",
       "text": [
        "0 relres: 9.57194170017e-11\n"
       ]
      },
      {
       "output_type": "stream",
       "stream": "stderr",
       "text": [
        "0 iterations: 317 / 1000 \n"
       ]
      },
      {
       "output_type": "stream",
       "stream": "stderr",
       "text": [
        "0 relres: 9.57194170017e-11\n"
       ]
      },
      {
       "output_type": "stream",
       "stream": "stdout",
       "text": [
        "1 loops, best of 3: 3.88 s per loop\n"
       ]
      }
     ],
     "prompt_number": 220
    },
    {
     "cell_type": "markdown",
     "metadata": {},
     "source": [
      "It's faster in serial than in parallel! That isn't good. What's going on? Most of the slow down is because FiPy is not consistent in its choice of solver for different solver suites. In serial, FiPy used PySparse which uses PCG, while in parallel Trilinos is used and its default GMRES. "
     ]
    },
    {
     "cell_type": "code",
     "collapsed": false,
     "input": [
      "%px print eqn.getDefaultSolver().__class__\n",
      "print eqn.getDefaultSolver().__class__"
     ],
     "language": "python",
     "metadata": {},
     "outputs": [
      {
       "output_type": "stream",
       "stream": "stdout",
       "text": [
        "[stdout:0] <class 'fipy.solvers.trilinos.linearGMRESSolver.LinearGMRESSolver'>\n",
        "[stdout:1] <class 'fipy.solvers.trilinos.linearGMRESSolver.LinearGMRESSolver'>\n",
        "[stdout:2] <class 'fipy.solvers.trilinos.linearGMRESSolver.LinearGMRESSolver'>\n",
        "[stdout:3] <class 'fipy.solvers.trilinos.linearGMRESSolver.LinearGMRESSolver'>\n",
        "<class 'fipy.solvers.pysparse.linearPCGSolver.LinearPCGSolver'>\n"
       ]
      }
     ],
     "prompt_number": 176
    },
    {
     "cell_type": "markdown",
     "metadata": {},
     "source": [
      "An added complication is that each solver is using a different preconditioner. Instead if letting FiPy choose it's default solver, let's instatiate the solver we want."
     ]
    },
    {
     "cell_type": "markdown",
     "metadata": {},
     "source": [
      "## Timings with a consistent solver choice\n",
      "\n",
      "Since PySparse is using PCG, we'll use PCG for both Trilinos and\n",
      "PySparse. PySparse is using a preconditioner which isn't available in\n",
      "Trilinos. To unclutter the problem, let's switch off preconditioning."
     ]
    },
    {
     "cell_type": "code",
     "collapsed": false,
     "input": [
      "os.environ['FIPY_VERBOSE_SOLVER'] = ''\n",
      "import fipy.solvers.pysparse as solvers\n",
      "solver = solvers.linearPCGSolver.LinearPCGSolver(precon=None, iterations=500, tolerance=1e-15)\n",
      "\n",
      "eqn.solve(v, solver=solver, dt=1.)\n",
      "%timeit v[:] = v0.copy(); eqn.solve(v, solver=solver, dt=1.)"
     ],
     "language": "python",
     "metadata": {},
     "outputs": [
      {
       "output_type": "stream",
       "stream": "stderr",
       "text": [
        "-c:5: MaximumIterationWarning: Iterations: 501. Relative error: 2.10992e-07\n",
        "0 iterations: 501 / 500 \n"
       ]
      },
      {
       "output_type": "stream",
       "stream": "stderr",
       "text": [
        "0 failure type\n"
       ]
      },
      {
       "output_type": "stream",
       "stream": "stderr",
       "text": [
        "0 relres: 2.10992132601e-07\n"
       ]
      },
      {
       "output_type": "stream",
       "stream": "stderr",
       "text": [
        "-c:257: MaximumIterationWarning: Iterations: 501. Relative error: 7.09105e-06\n",
        "0 iterations: 501 / 500 \n"
       ]
      },
      {
       "output_type": "stream",
       "stream": "stderr",
       "text": [
        "0 failure type\n"
       ]
      },
      {
       "output_type": "stream",
       "stream": "stderr",
       "text": [
        "0 relres: 7.09104869472e-06\n"
       ]
      },
      {
       "output_type": "stream",
       "stream": "stderr",
       "text": [
        "0 iterations: 501 / 500 \n"
       ]
      },
      {
       "output_type": "stream",
       "stream": "stderr",
       "text": [
        "0 failure type\n"
       ]
      },
      {
       "output_type": "stream",
       "stream": "stderr",
       "text": [
        "0 relres: 7.09104869472e-06\n"
       ]
      },
      {
       "output_type": "stream",
       "stream": "stderr",
       "text": [
        "0 iterations: 501 / 500 \n"
       ]
      },
      {
       "output_type": "stream",
       "stream": "stderr",
       "text": [
        "0 failure type\n"
       ]
      },
      {
       "output_type": "stream",
       "stream": "stderr",
       "text": [
        "0 relres: 7.09104869472e-06\n"
       ]
      },
      {
       "output_type": "stream",
       "stream": "stderr",
       "text": [
        "0 iterations: 501 / 500 \n"
       ]
      },
      {
       "output_type": "stream",
       "stream": "stderr",
       "text": [
        "0 failure type\n"
       ]
      },
      {
       "output_type": "stream",
       "stream": "stderr",
       "text": [
        "0 relres: 7.09104869472e-06\n"
       ]
      },
      {
       "output_type": "stream",
       "stream": "stdout",
       "text": [
        "1 loops, best of 3: 3.57 s per loop\n"
       ]
      }
     ],
     "prompt_number": 225
    },
    {
     "cell_type": "code",
     "collapsed": false,
     "input": [
      "import os\n",
      "os.environ['FIPY_VERBOSE_SOLVER'] = ''\n",
      "import fipy.solvers.trilinos as solvers\n",
      "solver = solvers.linearPCGSolver.LinearPCGSolver(precon=None, iterations=500, tolerance=1e-15)\n",
      "\n",
      "eqn.solve(v, solver=solver, dt=1.)\n",
      "%timeit v[:] = v0.copy(); eqn.solve(v, solver=solver, dt=1.)"
     ],
     "language": "python",
     "metadata": {},
     "outputs": [
      {
       "output_type": "stream",
       "stream": "stderr",
       "text": [
        "0 iterations: 500 / 500 \n"
       ]
      },
      {
       "output_type": "stream",
       "stream": "stderr",
       "text": [
        "0 failure AztecOO.AZ_maxits\n"
       ]
      },
      {
       "output_type": "stream",
       "stream": "stderr",
       "text": [
        "0 AztecOO.AZ_r: 3.76636658284e-13\n"
       ]
      },
      {
       "output_type": "stream",
       "stream": "stderr",
       "text": [
        "0 AztecOO.AZ_scaled_r: 1.95304010773e-07\n"
       ]
      },
      {
       "output_type": "stream",
       "stream": "stderr",
       "text": [
        "0 AztecOO.AZ_rec_r: 3.76636658284e-13\n"
       ]
      },
      {
       "output_type": "stream",
       "stream": "stderr",
       "text": [
        "0 AztecOO.AZ_solve_time: 1.8510529995\n"
       ]
      },
      {
       "output_type": "stream",
       "stream": "stderr",
       "text": [
        "0 AztecOO.AZ_Aztec_version: 2.109\n"
       ]
      },
      {
       "output_type": "stream",
       "stream": "stderr",
       "text": [
        "0 iterations: 500 / 500 \n"
       ]
      },
      {
       "output_type": "stream",
       "stream": "stderr",
       "text": [
        "0 failure AztecOO.AZ_maxits\n"
       ]
      },
      {
       "output_type": "stream",
       "stream": "stderr",
       "text": [
        "0 AztecOO.AZ_r: 1.86173619375e-11\n"
       ]
      },
      {
       "output_type": "stream",
       "stream": "stderr",
       "text": [
        "0 AztecOO.AZ_scaled_r: 2.90308828449e-12\n"
       ]
      },
      {
       "output_type": "stream",
       "stream": "stderr",
       "text": [
        "0 AztecOO.AZ_rec_r: 1.86173619375e-11\n"
       ]
      },
      {
       "output_type": "stream",
       "stream": "stderr",
       "text": [
        "0 AztecOO.AZ_solve_time: 1.77943992615\n"
       ]
      },
      {
       "output_type": "stream",
       "stream": "stderr",
       "text": [
        "0 AztecOO.AZ_Aztec_version: 2.109\n"
       ]
      },
      {
       "output_type": "stream",
       "stream": "stderr",
       "text": [
        "0 iterations: 500 / 500 \n"
       ]
      },
      {
       "output_type": "stream",
       "stream": "stderr",
       "text": [
        "0 failure AztecOO.AZ_maxits\n"
       ]
      },
      {
       "output_type": "stream",
       "stream": "stderr",
       "text": [
        "0 AztecOO.AZ_r: 1.86173619375e-11\n"
       ]
      },
      {
       "output_type": "stream",
       "stream": "stderr",
       "text": [
        "0 AztecOO.AZ_scaled_r: 2.90308828449e-12\n"
       ]
      },
      {
       "output_type": "stream",
       "stream": "stderr",
       "text": [
        "0 AztecOO.AZ_rec_r: 1.86173619375e-11\n"
       ]
      },
      {
       "output_type": "stream",
       "stream": "stderr",
       "text": [
        "0 AztecOO.AZ_solve_time: 1.77151703835\n"
       ]
      },
      {
       "output_type": "stream",
       "stream": "stderr",
       "text": [
        "0 AztecOO.AZ_Aztec_version: 2.109\n"
       ]
      },
      {
       "output_type": "stream",
       "stream": "stderr",
       "text": [
        "0 iterations: 500 / 500 \n"
       ]
      },
      {
       "output_type": "stream",
       "stream": "stderr",
       "text": [
        "0 failure AztecOO.AZ_maxits\n"
       ]
      },
      {
       "output_type": "stream",
       "stream": "stderr",
       "text": [
        "0 AztecOO.AZ_r: 1.86173619375e-11\n"
       ]
      },
      {
       "output_type": "stream",
       "stream": "stderr",
       "text": [
        "0 AztecOO.AZ_scaled_r: 2.90308828449e-12\n"
       ]
      },
      {
       "output_type": "stream",
       "stream": "stderr",
       "text": [
        "0 AztecOO.AZ_rec_r: 1.86173619375e-11\n"
       ]
      },
      {
       "output_type": "stream",
       "stream": "stderr",
       "text": [
        "0 AztecOO.AZ_solve_time: 1.76281809807\n"
       ]
      },
      {
       "output_type": "stream",
       "stream": "stderr",
       "text": [
        "0 AztecOO.AZ_Aztec_version: 2.109\n"
       ]
      },
      {
       "output_type": "stream",
       "stream": "stderr",
       "text": [
        "0 iterations: 500 / 500 \n"
       ]
      },
      {
       "output_type": "stream",
       "stream": "stderr",
       "text": [
        "0 failure AztecOO.AZ_maxits\n"
       ]
      },
      {
       "output_type": "stream",
       "stream": "stderr",
       "text": [
        "0 AztecOO.AZ_r: 1.86173619375e-11\n"
       ]
      },
      {
       "output_type": "stream",
       "stream": "stderr",
       "text": [
        "0 AztecOO.AZ_scaled_r: 2.90308828449e-12\n"
       ]
      },
      {
       "output_type": "stream",
       "stream": "stderr",
       "text": [
        "0 AztecOO.AZ_rec_r: 1.86173619375e-11\n"
       ]
      },
      {
       "output_type": "stream",
       "stream": "stderr",
       "text": [
        "0 AztecOO.AZ_solve_time: 2.3367190361\n"
       ]
      },
      {
       "output_type": "stream",
       "stream": "stderr",
       "text": [
        "0 AztecOO.AZ_Aztec_version: 2.109\n"
       ]
      },
      {
       "output_type": "stream",
       "stream": "stdout",
       "text": [
        "1 loops, best of 3: 3.52 s per loop\n"
       ]
      }
     ],
     "prompt_number": 226
    },
    {
     "cell_type": "markdown",
     "metadata": {},
     "source": [
      "The time taken with a Trilinos solver is now more in line with the\n",
      "PySparse solvers. Although the stopping criterion may still not be\n",
      "consistent. Let's try this in parallel."
     ]
    },
    {
     "cell_type": "markdown",
     "metadata": {},
     "source": [
      "## In parallel"
     ]
    },
    {
     "cell_type": "code",
     "collapsed": false,
     "input": [
      "%%px\n",
      "import fipy.solvers.trilinos as solvers\n",
      "solver = solvers.linearPCGSolver.LinearPCGSolver(precon=None, iterations=500, tolerance=1e-15)\n",
      "eqn.solve(v, solver=solver, dt=1.)\n",
      "%timeit v[:] = v0.copy(); eqn.solve(v, dt=1., solver=solver)"
     ],
     "language": "python",
     "metadata": {},
     "outputs": [
      {
       "output_type": "stream",
       "stream": "stdout",
       "text": [
        "[stdout:0] 1 loops, best of 3: 1.82 s per loop\n",
        "[stdout:1] 1 loops, best of 3: 1.82 s per loop\n",
        "[stdout:2] 1 loops, best of 3: 1.82 s per loop\n",
        "[stdout:3] 1 loops, best of 3: 1.82 s per loop\n"
       ]
      }
     ],
     "prompt_number": 234
    },
    {
     "cell_type": "markdown",
     "metadata": {},
     "source": [
      "We now see some speed up with 4 processors, a speed up of 1.6. Not great, but at least it's in the right direction. One thing we can do is compare the speed up for different sized meshes. In order to capture the timing output, we will switch over to using the `timeit` module directly instead of the magic."
     ]
    },
    {
     "cell_type": "markdown",
     "metadata": {},
     "source": [
      "## Grid Search of Run Times"
     ]
    },
    {
     "cell_type": "code",
     "collapsed": false,
     "input": [
      "setup_str = '''\n",
      "import fipy as fp\n",
      "import numpy as np\n",
      "np.random.seed(1)\n",
      "L = 1.\n",
      "N = {N:d}\n",
      "m = fp.GmshGrid3D(nx=N, ny=N, nz=N, dx=L / N, dy=L / N, dz=L / N)\n",
      "v0 = 1.\n",
      "for dim in range(3):\n",
      "    x = np.linspace(0., L, N)\n",
      "    fx = np.sum(np.array([np.sin(2 * x * np.pi * i * np.random.random()) / i for i in range(1, N)]), axis=0)\n",
      "    v0 = np.outer(v0, fx).flatten()\n",
      "v = fp.CellVariable(mesh=m)\n",
      "v0 = np.resize(v0, len(v)) ## Gmsh doesn't always give us the correct sized grid!\n",
      "eqn = fp.TransientTerm(1e-3) == fp.DiffusionTerm()\n",
      "v[:] = v0.copy()\n",
      "\n",
      "import fipy.solvers.{suite} as solvers\n",
      "solver = solvers.linearPCGSolver.LinearPCGSolver(precon=None, iterations={iterations}, tolerance=1e-100)\n",
      "\n",
      "eqn.solve(v, dt=1., solver=solver)\n",
      "v[:] = v0.copy()\n",
      "'''\n",
      "\n",
      "timeit_str = '''\n",
      "eqn.solve(v, dt=1., solver=solver)\n",
      "fp.parallelComm.Barrier()\n",
      "'''"
     ],
     "language": "python",
     "metadata": {},
     "outputs": [],
     "prompt_number": 129
    },
    {
     "cell_type": "code",
     "collapsed": true,
     "input": [
      "import timeit\n",
      "import itertools\n",
      "%px import timeit\n",
      "\n",
      "attempts = 3\n",
      "\n",
      "view['timeit_str'] = timeit_str\n",
      "view['attempts'] = attempts\n",
      "view['setup_str'] = setup_str\n",
      "\n",
      "runtimes = pd.DataFrame(columns=['iterations', 'N', 'mode', 'suite', 'run times'])\n",
      "\n",
      "Ns = (10, 20, 30, 40, 50, 60, 70, 80)\n",
      "iterations_ = (100, 200, 400, 800)\n",
      "modes = ('serial', 'parallel')\n",
      "suites = ('pysparse', 'trilinos')\n",
      "                      \n",
      "for N, iterations, mode, suite in itertools.product(Ns, iterations_, modes, suites):\n",
      "    if mode == 'serial':\n",
      "        timer = timeit.Timer(timeit_str, setup=setup_str.format(N=N, suite=suite, iterations=iterations))\n",
      "        times = timer.repeat(attempts, 1)\n",
      "        runtime = min(times)\n",
      "    elif suite == 'trilinos':\n",
      "        view['N'] = N\n",
      "        view['iterations'] = iterations\n",
      "        view['suite'] = suite\n",
      "        %px timer = timeit.Timer(timeit_str, setup=setup_str.format(N=N, suite=suite, iterations=iterations))\n",
      "        %px times = timer.repeat(attempts, 1)\n",
      "        runtime = max(np.array(view['times']).min(axis=1))\n",
      "    else:\n",
      "        runtime = None\n",
      "    \n",
      "    runtimes = runtimes.append({'N' : N, 'iterations' : iterations, 'mode' : mode, 'suite' : suite, 'run time' : runtime})"
     ],
     "language": "python",
     "metadata": {},
     "outputs": [
      {
       "output_type": "stream",
       "stream": "stderr",
       "text": [
        "/home/wd15/anaconda/lib/python2.7/timeit.py:24: MaximumIterationWarning: Iterations: 101. Relative error: 9.31853e-09\n",
        "  \n",
        "/home/wd15/anaconda/lib/python2.7/timeit.py:30: MaximumIterationWarning: Iterations: 101. Relative error: 9.31853e-09\n",
        "  If -n is not given, a suitable number of loops is calculated by trying\n",
        "/home/wd15/anaconda/lib/python2.7/timeit.py:24: StagnatedSolverWarning: The solver stagnated. Iterations: 142. Relative error: 1.97603e-12\n",
        "  \n"
       ]
      },
      {
       "output_type": "stream",
       "stream": "stderr",
       "text": [
        "/home/wd15/anaconda/lib/python2.7/timeit.py:30: StagnatedSolverWarning: The solver stagnated. Iterations: 142. Relative error: 1.97603e-12\n",
        "  If -n is not given, a suitable number of loops is calculated by trying\n",
        "/home/wd15/anaconda/lib/python2.7/timeit.py:24: MaximumIterationWarning: Iterations: 101. Relative error: 0.12792\n",
        "  \n"
       ]
      },
      {
       "output_type": "stream",
       "stream": "stderr",
       "text": [
        "/home/wd15/anaconda/lib/python2.7/timeit.py:30: MaximumIterationWarning: Iterations: 101. Relative error: 0.12792\n",
        "  If -n is not given, a suitable number of loops is calculated by trying\n",
        "/home/wd15/anaconda/lib/python2.7/timeit.py:24: MaximumIterationWarning: Iterations: 201. Relative error: 3.45931e-09\n",
        "  \n"
       ]
      },
      {
       "output_type": "stream",
       "stream": "stderr",
       "text": [
        "/home/wd15/anaconda/lib/python2.7/timeit.py:30: MaximumIterationWarning: Iterations: 201. Relative error: 3.45931e-09\n",
        "  If -n is not given, a suitable number of loops is calculated by trying\n",
        "/home/wd15/anaconda/lib/python2.7/timeit.py:24: StagnatedSolverWarning: The solver stagnated. Iterations: 283. Relative error: 3.83173e-12\n",
        "  \n"
       ]
      },
      {
       "output_type": "stream",
       "stream": "stderr",
       "text": [
        "/home/wd15/anaconda/lib/python2.7/timeit.py:30: StagnatedSolverWarning: The solver stagnated. Iterations: 283. Relative error: 3.83173e-12\n",
        "  If -n is not given, a suitable number of loops is calculated by trying\n",
        "/home/wd15/anaconda/lib/python2.7/timeit.py:24: MaximumIterationWarning: Iterations: 101. Relative error: 52.6294\n",
        "  \n"
       ]
      },
      {
       "output_type": "stream",
       "stream": "stderr",
       "text": [
        "/home/wd15/anaconda/lib/python2.7/timeit.py:30: MaximumIterationWarning: Iterations: 101. Relative error: 52.6294\n",
        "  If -n is not given, a suitable number of loops is calculated by trying\n",
        "/home/wd15/anaconda/lib/python2.7/timeit.py:24: MaximumIterationWarning: Iterations: 201. Relative error: 0.000650014\n",
        "  \n"
       ]
      },
      {
       "output_type": "stream",
       "stream": "stderr",
       "text": [
        "/home/wd15/anaconda/lib/python2.7/timeit.py:30: MaximumIterationWarning: Iterations: 201. Relative error: 0.000650014\n",
        "  If -n is not given, a suitable number of loops is calculated by trying\n",
        "/home/wd15/anaconda/lib/python2.7/timeit.py:24: MaximumIterationWarning: Iterations: 401. Relative error: 1.63231e-11\n",
        "  \n"
       ]
      },
      {
       "output_type": "stream",
       "stream": "stderr",
       "text": [
        "/home/wd15/anaconda/lib/python2.7/timeit.py:30: MaximumIterationWarning: Iterations: 401. Relative error: 1.63231e-11\n",
        "  If -n is not given, a suitable number of loops is calculated by trying\n",
        "/home/wd15/anaconda/lib/python2.7/timeit.py:24: StagnatedSolverWarning: The solver stagnated. Iterations: 401. Relative error: 1.31603e-11\n",
        "  \n"
       ]
      },
      {
       "output_type": "stream",
       "stream": "stderr",
       "text": [
        "/home/wd15/anaconda/lib/python2.7/timeit.py:30: StagnatedSolverWarning: The solver stagnated. Iterations: 401. Relative error: 1.31603e-11\n",
        "  If -n is not given, a suitable number of loops is calculated by trying\n",
        "/home/wd15/anaconda/lib/python2.7/timeit.py:24: MaximumIterationWarning: Iterations: 101. Relative error: 1222.68\n",
        "  \n"
       ]
      },
      {
       "output_type": "stream",
       "stream": "stderr",
       "text": [
        "/home/wd15/anaconda/lib/python2.7/timeit.py:30: MaximumIterationWarning: Iterations: 101. Relative error: 1222.68\n",
        "  If -n is not given, a suitable number of loops is calculated by trying\n",
        "/home/wd15/anaconda/lib/python2.7/timeit.py:24: MaximumIterationWarning: Iterations: 201. Relative error: 0.381838\n",
        "  \n"
       ]
      },
      {
       "output_type": "stream",
       "stream": "stderr",
       "text": [
        "/home/wd15/anaconda/lib/python2.7/timeit.py:30: MaximumIterationWarning: Iterations: 201. Relative error: 0.381838\n",
        "  If -n is not given, a suitable number of loops is calculated by trying\n",
        "/home/wd15/anaconda/lib/python2.7/timeit.py:24: MaximumIterationWarning: Iterations: 401. Relative error: 5.15039e-09\n",
        "  \n"
       ]
      },
      {
       "output_type": "stream",
       "stream": "stderr",
       "text": [
        "/home/wd15/anaconda/lib/python2.7/timeit.py:30: MaximumIterationWarning: Iterations: 401. Relative error: 5.15039e-09\n",
        "  If -n is not given, a suitable number of loops is calculated by trying\n",
        "/home/wd15/anaconda/lib/python2.7/timeit.py:24: StagnatedSolverWarning: The solver stagnated. Iterations: 546. Relative error: 6.1597e-12\n",
        "  \n"
       ]
      },
      {
       "output_type": "stream",
       "stream": "stderr",
       "text": [
        "/home/wd15/anaconda/lib/python2.7/timeit.py:30: StagnatedSolverWarning: The solver stagnated. Iterations: 546. Relative error: 6.1597e-12\n",
        "  If -n is not given, a suitable number of loops is calculated by trying\n",
        "/home/wd15/anaconda/lib/python2.7/timeit.py:24: MaximumIterationWarning: Iterations: 101. Relative error: 2630.36\n",
        "  \n"
       ]
      },
      {
       "output_type": "stream",
       "stream": "stderr",
       "text": [
        "/home/wd15/anaconda/lib/python2.7/timeit.py:30: MaximumIterationWarning: Iterations: 101. Relative error: 2630.36\n",
        "  If -n is not given, a suitable number of loops is calculated by trying\n",
        "/home/wd15/anaconda/lib/python2.7/timeit.py:24: MaximumIterationWarning: Iterations: 201. Relative error: 6.97832\n",
        "  \n"
       ]
      },
      {
       "output_type": "stream",
       "stream": "stderr",
       "text": [
        "/home/wd15/anaconda/lib/python2.7/timeit.py:30: MaximumIterationWarning: Iterations: 201. Relative error: 6.97832\n",
        "  If -n is not given, a suitable number of loops is calculated by trying\n",
        "/home/wd15/anaconda/lib/python2.7/timeit.py:24: MaximumIterationWarning: Iterations: 401. Relative error: 1.30938e-05\n",
        "  \n"
       ]
      },
      {
       "output_type": "stream",
       "stream": "stderr",
       "text": [
        "/home/wd15/anaconda/lib/python2.7/timeit.py:30: MaximumIterationWarning: Iterations: 401. Relative error: 1.30938e-05\n",
        "  If -n is not given, a suitable number of loops is calculated by trying\n",
        "/home/wd15/anaconda/lib/python2.7/timeit.py:24: StagnatedSolverWarning: The solver stagnated. Iterations: 667. Relative error: 2.05959e-11\n",
        "  \n"
       ]
      },
      {
       "output_type": "stream",
       "stream": "stderr",
       "text": [
        "/home/wd15/anaconda/lib/python2.7/timeit.py:30: StagnatedSolverWarning: The solver stagnated. Iterations: 667. Relative error: 2.05959e-11\n",
        "  If -n is not given, a suitable number of loops is calculated by trying\n",
        "/home/wd15/anaconda/lib/python2.7/timeit.py:24: MaximumIterationWarning: Iterations: 101. Relative error: 9923.01\n",
        "  \n"
       ]
      },
      {
       "output_type": "stream",
       "stream": "stderr",
       "text": [
        "/home/wd15/anaconda/lib/python2.7/timeit.py:30: MaximumIterationWarning: Iterations: 101. Relative error: 9923.01\n",
        "  If -n is not given, a suitable number of loops is calculated by trying\n",
        "/home/wd15/anaconda/lib/python2.7/timeit.py:24: MaximumIterationWarning: Iterations: 201. Relative error: 88.8965\n",
        "  \n"
       ]
      },
      {
       "output_type": "stream",
       "stream": "stderr",
       "text": [
        "/home/wd15/anaconda/lib/python2.7/timeit.py:30: MaximumIterationWarning: Iterations: 201. Relative error: 88.8965\n",
        "  If -n is not given, a suitable number of loops is calculated by trying\n",
        "/home/wd15/anaconda/lib/python2.7/timeit.py:24: MaximumIterationWarning: Iterations: 401. Relative error: 0.00132848\n",
        "  \n"
       ]
      },
      {
       "output_type": "stream",
       "stream": "stderr",
       "text": [
        "/home/wd15/anaconda/lib/python2.7/timeit.py:30: MaximumIterationWarning: Iterations: 401. Relative error: 0.00132848\n",
        "  If -n is not given, a suitable number of loops is calculated by trying\n",
        "/home/wd15/anaconda/lib/python2.7/timeit.py:24: StagnatedSolverWarning: The solver stagnated. Iterations: 782. Relative error: 6.23627e-11\n",
        "  \n"
       ]
      },
      {
       "output_type": "stream",
       "stream": "stderr",
       "text": [
        "/home/wd15/anaconda/lib/python2.7/timeit.py:30: StagnatedSolverWarning: The solver stagnated. Iterations: 782. Relative error: 6.23627e-11\n",
        "  If -n is not given, a suitable number of loops is calculated by trying\n",
        "/home/wd15/anaconda/lib/python2.7/timeit.py:24: MaximumIterationWarning: Iterations: 101. Relative error: 15303.3\n",
        "  \n"
       ]
      },
      {
       "output_type": "stream",
       "stream": "stderr",
       "text": [
        "/home/wd15/anaconda/lib/python2.7/timeit.py:30: MaximumIterationWarning: Iterations: 101. Relative error: 15303.3\n",
        "  If -n is not given, a suitable number of loops is calculated by trying\n",
        "/home/wd15/anaconda/lib/python2.7/timeit.py:24: MaximumIterationWarning: Iterations: 201. Relative error: 725.629\n",
        "  \n"
       ]
      },
      {
       "output_type": "stream",
       "stream": "stderr",
       "text": [
        "/home/wd15/anaconda/lib/python2.7/timeit.py:30: MaximumIterationWarning: Iterations: 201. Relative error: 725.629\n",
        "  If -n is not given, a suitable number of loops is calculated by trying\n",
        "/home/wd15/anaconda/lib/python2.7/timeit.py:24: MaximumIterationWarning: Iterations: 401. Relative error: 0.01752\n",
        "  \n"
       ]
      },
      {
       "output_type": "stream",
       "stream": "stderr",
       "text": [
        "/home/wd15/anaconda/lib/python2.7/timeit.py:30: MaximumIterationWarning: Iterations: 401. Relative error: 0.01752\n",
        "  If -n is not given, a suitable number of loops is calculated by trying\n",
        "/home/wd15/anaconda/lib/python2.7/timeit.py:24: MaximumIterationWarning: Iterations: 801. Relative error: 5.58104e-07\n",
        "  \n"
       ]
      },
      {
       "output_type": "stream",
       "stream": "stderr",
       "text": [
        "/home/wd15/anaconda/lib/python2.7/timeit.py:30: MaximumIterationWarning: Iterations: 801. Relative error: 5.58104e-07\n",
        "  If -n is not given, a suitable number of loops is calculated by trying\n",
        "/home/wd15/anaconda/lib/python2.7/timeit.py:24: MaximumIterationWarning: Iterations: 101. Relative error: 17086.5\n",
        "  \n"
       ]
      },
      {
       "output_type": "stream",
       "stream": "stderr",
       "text": [
        "/home/wd15/anaconda/lib/python2.7/timeit.py:30: MaximumIterationWarning: Iterations: 101. Relative error: 17086.5\n",
        "  If -n is not given, a suitable number of loops is calculated by trying\n",
        "/home/wd15/anaconda/lib/python2.7/timeit.py:24: MaximumIterationWarning: Iterations: 201. Relative error: 1579.89\n",
        "  \n"
       ]
      },
      {
       "output_type": "stream",
       "stream": "stderr",
       "text": [
        "/home/wd15/anaconda/lib/python2.7/timeit.py:30: MaximumIterationWarning: Iterations: 201. Relative error: 1579.89\n",
        "  If -n is not given, a suitable number of loops is calculated by trying\n",
        "/home/wd15/anaconda/lib/python2.7/timeit.py:24: MaximumIterationWarning: Iterations: 401. Relative error: 0.623549\n",
        "  \n"
       ]
      },
      {
       "output_type": "stream",
       "stream": "stderr",
       "text": [
        "/home/wd15/anaconda/lib/python2.7/timeit.py:30: MaximumIterationWarning: Iterations: 401. Relative error: 0.623549\n",
        "  If -n is not given, a suitable number of loops is calculated by trying\n",
        "/home/wd15/anaconda/lib/python2.7/timeit.py:24: MaximumIterationWarning: Iterations: 801. Relative error: 2.82057e-09\n",
        "  \n"
       ]
      },
      {
       "output_type": "stream",
       "stream": "stderr",
       "text": [
        "/home/wd15/anaconda/lib/python2.7/timeit.py:30: MaximumIterationWarning: Iterations: 801. Relative error: 2.82057e-09\n",
        "  If -n is not given, a suitable number of loops is calculated by trying\n"
       ]
      }
     ],
     "prompt_number": 4
    },
    {
     "cell_type": "code",
     "collapsed": false,
     "input": [
      "runtimes.to_csv('laptop_runtimes.csv')"
     ],
     "language": "python",
     "metadata": {},
     "outputs": [],
     "prompt_number": 29
    },
    {
     "cell_type": "code",
     "collapsed": false,
     "input": [
      "df = pd.read_csv('laptop_runtimes.csv', index_col=0)\n",
      "iterations_ = (100, 200, 400, 800)"
     ],
     "language": "python",
     "metadata": {},
     "outputs": [],
     "prompt_number": 8
    },
    {
     "cell_type": "code",
     "collapsed": false,
     "input": [
      "f = plt.figure(figsize=(15,5))\n",
      "ax1 = f.add_subplot(131)\n",
      "ax2 = f.add_subplot(132)\n",
      "ax3 = f.add_subplot(133)\n",
      "\n",
      "for iters in iterations_:\n",
      "    parallel_df = df[(df['iterations'] == iters) & (df['mode'] == 'parallel') & (df['suite'] == 'trilinos')].sort('N')\n",
      "    serial_df = df[(df['iterations'] == iters) & (df['mode'] == 'serial') & (df['suite'] == 'trilinos')].sort('N')\n",
      "    pysparse_df = df[(df['iterations'] == iters) & (df['mode'] == 'serial') & (df['suite'] == 'pysparse')].sort('N')\n",
      "    Ns = parallel_df['N']\n",
      "    parallelTimes = np.array(parallel_df['run times'])\n",
      "    serialTimes = np.array(serial_df['run times'])\n",
      "    pysparseTimes = np.array(pysparse_df['run times'])\n",
      "    ax1.semilogx(Ns**3, serialTimes / parallelTimes, label=iters)\n",
      "    ax2.semilogx(Ns**3, pysparseTimes / serialTimes, label=iters)\n",
      "    if iters == 800:\n",
      "        ax3.loglog(Ns**3, parallelTimes, label='parallel Trilios')\n",
      "        ax3.loglog(Ns**3, serialTimes, label='serial Trilinos')\n",
      "        ax3.loglog(Ns**3, pysparseTimes, label='PySparse')\n",
      "    \n",
      "ax1.set_ylabel(\"Speed Up\")\n",
      "ax2.set_ylabel(\"Speed Up\")\n",
      "ax1.set_xlabel(\"$N^3$\")\n",
      "ax2.set_xlabel(\"$N^3$\")\n",
      "ax1.set_title(\"Speed up, serial / parallel\")\n",
      "ax2.set_title(\"Speed up, PySparse / Trilinos (serial)\")\n",
      "ax3.set_title(\"Raw Times, 800 iterations\")\n",
      "ax3.set_xlabel(\"$N^3$\")\n",
      "ax3.set_ylabel(\"Time (s)\")\n",
      "\n",
      "ax1.legend(loc='upper left')\n",
      "ax2.legend(loc='upper left')\n",
      "l = ax3.legend(loc='upper left')"
     ],
     "language": "python",
     "metadata": {},
     "outputs": [
      {
       "metadata": {},
       "output_type": "display_data",
       "png": "[encoded data removed]",
       "text": [
        "<matplotlib.figure.Figure at 0x4801e10>"
       ]
      }
     ],
     "prompt_number": 9
    },
    {
     "cell_type": "markdown",
     "metadata": {},
     "source": [
      "The graph on the left is the speed up when switching from serial to\n",
      "parallel. The center graph is the speed up when switching from\n",
      "PySparse to Trilinos. The graph on the right shows the raw run times\n",
      "with an iteration count of 800. The x-axis is the number of cells in\n",
      "the domain. The best parallel speed up is about 2.7 and occurs for 800\n",
      "iterations at ~30000 cells. The left graph shows that there is a drop\n",
      "off in parallel speed up as the domain size increases. This is\n",
      "consistent with a probable saturation of some aspect of the parallel\n",
      "communication. This has nothing to do with memory as the raw run times\n",
      "are not dramatically increased for larger numbers of cells.\n",
      "\n",
      "In this example the only communication occurs during the solver\n",
      "iterations. This fact supports the decreased speed up for larger\n",
      "system sizes as the iteration count increases. The communication\n",
      "requirement is probably a linear function of the number of iterations.\n",
      "\n",
      "An important consideration is the proportion of time spent in the\n",
      "solver. I ran a few quick tests to check this (not shown here). I used\n",
      "a system size of `N=60` and checked the run times for different\n",
      "numbers of iterations. A fairly consistent time per iteration count of\n",
      "0.00265 (s) was observed for the parallel simulations and 0.0035 (s)\n",
      "for the serial simulations. This is independent of the number of\n",
      "iterations. Outside of the solver, the speed up was over 2$\\times$\n",
      "faster."
     ]
    },
    {
     "cell_type": "markdown",
     "metadata": {},
     "source": [
      "## Altering the number of parallel nodes\n",
      "\n",
      "The previous testing used a fixed core count of\n",
      "4. Unfortunately, with `mpi4py` and `PyTrilinos` there doesn't seem\n",
      "to be a way to decrease the number of parallel engines interactively\n",
      "without restarting the cluster. Even if we select a subview of the\n",
      "parallel engines (with `view = Client()[:3]` for example), FiPy is still\n",
      "using `mpi4py`'s value of `Nproc=4`. This issue needs to be ironed out\n",
      "in FiPy. It should be possible to modify FiPy so that some parallel\n",
      "nodes have zero elements. This already occurs for small test cases in\n",
      "parallel.\n",
      "\n",
      "Due to this issue, the parallel runs are executed externally using `!mpirun`. The following cell creates a script called `fipy_timing.py`, which takes the control parameters as command line arguments"
     ]
    },
    {
     "cell_type": "code",
     "collapsed": false,
     "input": [
      "%%writefile fipy_timing.py\n",
      "\n",
      "\"\"\"\n",
      "Usage: fipy_timing.py [-h] [--N N] [--iterations <iterations>] [--suite <suite>]\n",
      "\n",
      "Options:\n",
      "  -h --help                 Show this screen.\n",
      "  --N=N                     Cell number is N^3 [default: 30]\n",
      "  --iterations=<iterations> Number of iterations [default: 100]\n",
      "  --suite=<suite>           Solver suite [default: trilinos]\n",
      "  \n",
      "\"\"\"\n",
      "\n",
      "from docopt import docopt\n",
      "import timeit\n",
      "import numpy as np\n",
      "import fipy as fp\n",
      "\n",
      "arguments = docopt(__doc__, version='Run FiPy timing')\n",
      "N = int(arguments['--N'])\n",
      "iterations = int(arguments['--iterations'])\n",
      "suite = arguments['--suite']\n",
      "\n",
      "attempts = 3\n",
      "\n",
      "setup_str = '''\n",
      "import fipy as fp\n",
      "import numpy as np\n",
      "np.random.seed(1)\n",
      "L = 1.\n",
      "N = {N:d}\n",
      "m = fp.GmshGrid3D(nx=N, ny=N, nz=N, dx=L / N, dy=L / N, dz=L / N)\n",
      "v0 = 1.\n",
      "for dim in range(3):\n",
      "    x = np.linspace(0., L, N)\n",
      "    fx = np.sum(np.array([np.sin(2 * x * np.pi * i * np.random.random()) / i for i in range(1, N)]), axis=0)\n",
      "    v0 = np.outer(v0, fx).flatten()\n",
      "v = fp.CellVariable(mesh=m)\n",
      "v0 = np.resize(v0, len(v)) ## Gmsh doesn't always give us the correct sized grid!\n",
      "eqn = fp.TransientTerm(1e-3) == fp.DiffusionTerm()\n",
      "v[:] = v0.copy()\n",
      "\n",
      "import fipy.solvers.{suite} as solvers\n",
      "solver = solvers.linearPCGSolver.LinearPCGSolver(precon=None, iterations={iterations}, tolerance=1e-100)\n",
      "\n",
      "eqn.solve(v, dt=1., solver=solver)\n",
      "v[:] = v0.copy()\n",
      "'''\n",
      "\n",
      "timeit_str = '''\n",
      "eqn.solve(v, dt=1., solver=solver)\n",
      "fp.parallelComm.Barrier()\n",
      "'''\n",
      "\n",
      "timer = timeit.Timer(timeit_str, setup=setup_str.format(N=N, suite=suite, iterations=iterations))\n",
      "times = timer.repeat(attempts, 1)\n",
      "\n",
      "if fp.parallelComm.procID == 0:\n",
      "    print min(times)"
     ],
     "language": "python",
     "metadata": {},
     "outputs": [
      {
       "output_type": "stream",
       "stream": "stdout",
       "text": [
        "Writing fipy_timing.py\n"
       ]
      }
     ],
     "prompt_number": 10
    },
    {
     "cell_type": "markdown",
     "metadata": {},
     "source": [
      "The following cell runs `fipy_timing.py` for different control parameters and collects the results into a data frame."
     ]
    },
    {
     "cell_type": "code",
     "collapsed": true,
     "input": [
      "import itertools\n",
      "\n",
      "runtimes = pd.DataFrame(columns=['iterations', 'N', 'np', 'run time', 'suite'])\n",
      "\n",
      "Ns = (10, 20, 30, 40, 50, 60, 70, 80)\n",
      "iterations_ = (100, 200, 400, 800)\n",
      "nps = (1, 2, 3, 4, 5, 6, 7, 8)\n",
      "suites = ('trilinos', 'pysparse')\n",
      "tmpfile = 'tmp.txt'\n",
      " \n",
      "for N, iterations, np_, suite in itertools.product(Ns, iterations_, nps, suites):\n",
      "    if suite == 'pysparse' and np_ > 1:\n",
      "        runtime = None\n",
      "    else:\n",
      "        !mpirun -np $np_ python fipy_timing.py --N=$N --suite=$suite --iterations=$iterations > $tmpfile\n",
      "        runtime = float(open(tmpfile).read())\n",
      "    \n",
      "    runtimes = runtimes.append({'N' : N, 'iterations' : iterations, 'np' : np_, 'suite' : suite, 'run time' : runtime}, ignore_index=True)\n",
      "    \n",
      "runtimes.to_csv('laptop_runtimes_nproc.csv')"
     ],
     "language": "python",
     "metadata": {},
     "outputs": [
      {
       "output_type": "stream",
       "stream": "stdout",
       "text": [
        "/home/wd15/anaconda/lib/python2.7/timeit.py:23: MaximumIterationWarning: Iterations: 101. Relative error: 9.31853e-09\r\n",
        "  statement: statement to be timed (default 'pass')\r\n",
        "/home/wd15/anaconda/lib/python2.7/timeit.py:29: MaximumIterationWarning: Iterations: 101. Relative error: 9.31853e-09\r\n",
        "  \r\n"
       ]
      },
      {
       "output_type": "stream",
       "stream": "stdout",
       "text": [
        "/home/wd15/anaconda/lib/python2.7/timeit.py:23: StagnatedSolverWarning: The solver stagnated. Iterations: 142. Relative error: 1.97603e-12\r\n",
        "  statement: statement to be timed (default 'pass')\r\n"
       ]
      },
      {
       "output_type": "stream",
       "stream": "stdout",
       "text": [
        "/home/wd15/anaconda/lib/python2.7/timeit.py:29: StagnatedSolverWarning: The solver stagnated. Iterations: 142. Relative error: 1.97603e-12\r\n",
        "  \r\n"
       ]
      },
      {
       "output_type": "stream",
       "stream": "stdout",
       "text": [
        "/home/wd15/anaconda/lib/python2.7/timeit.py:23: StagnatedSolverWarning: The solver stagnated. Iterations: 142. Relative error: 1.97603e-12\r\n",
        "  statement: statement to be timed (default 'pass')\r\n",
        "/home/wd15/anaconda/lib/python2.7/timeit.py:29: StagnatedSolverWarning: The solver stagnated. Iterations: 142. Relative error: 1.97603e-12\r\n",
        "  \r\n"
       ]
      },
      {
       "output_type": "stream",
       "stream": "stdout",
       "text": [
        "/home/wd15/anaconda/lib/python2.7/timeit.py:23: StagnatedSolverWarning: The solver stagnated. Iterations: 142. Relative error: 1.97603e-12\r\n",
        "  statement: statement to be timed (default 'pass')\r\n",
        "/home/wd15/anaconda/lib/python2.7/timeit.py:29: StagnatedSolverWarning: The solver stagnated. Iterations: 142. Relative error: 1.97603e-12\r\n",
        "  \r\n"
       ]
      },
      {
       "output_type": "stream",
       "stream": "stdout",
       "text": [
        "/home/wd15/anaconda/lib/python2.7/timeit.py:23: MaximumIterationWarning: Iterations: 101. Relative error: 0.12792\r\n",
        "  statement: statement to be timed (default 'pass')\r\n",
        "/home/wd15/anaconda/lib/python2.7/timeit.py:29: MaximumIterationWarning: Iterations: 101. Relative error: 0.12792\r\n",
        "  \r\n"
       ]
      },
      {
       "output_type": "stream",
       "stream": "stdout",
       "text": [
        "/home/wd15/anaconda/lib/python2.7/timeit.py:23: MaximumIterationWarning: Iterations: 201. Relative error: 3.45931e-09\r\n",
        "  statement: statement to be timed (default 'pass')\r\n"
       ]
      },
      {
       "output_type": "stream",
       "stream": "stdout",
       "text": [
        "/home/wd15/anaconda/lib/python2.7/timeit.py:29: MaximumIterationWarning: Iterations: 201. Relative error: 3.45931e-09\r\n",
        "  \r\n"
       ]
      },
      {
       "output_type": "stream",
       "stream": "stdout",
       "text": [
        "/home/wd15/anaconda/lib/python2.7/timeit.py:23: StagnatedSolverWarning: The solver stagnated. Iterations: 283. Relative error: 3.83173e-12\r\n",
        "  statement: statement to be timed (default 'pass')\r\n"
       ]
      },
      {
       "output_type": "stream",
       "stream": "stdout",
       "text": [
        "/home/wd15/anaconda/lib/python2.7/timeit.py:29: StagnatedSolverWarning: The solver stagnated. Iterations: 283. Relative error: 3.83173e-12\r\n",
        "  \r\n"
       ]
      },
      {
       "output_type": "stream",
       "stream": "stdout",
       "text": [
        "/home/wd15/anaconda/lib/python2.7/timeit.py:23: StagnatedSolverWarning: The solver stagnated. Iterations: 283. Relative error: 3.83173e-12\r\n",
        "  statement: statement to be timed (default 'pass')\r\n"
       ]
      },
      {
       "output_type": "stream",
       "stream": "stdout",
       "text": [
        "/home/wd15/anaconda/lib/python2.7/timeit.py:29: StagnatedSolverWarning: The solver stagnated. Iterations: 283. Relative error: 3.83173e-12\r\n",
        "  \r\n"
       ]
      },
      {
       "output_type": "stream",
       "stream": "stdout",
       "text": [
        "/home/wd15/anaconda/lib/python2.7/timeit.py:23: MaximumIterationWarning: Iterations: 101. Relative error: 52.6294\r\n",
        "  statement: statement to be timed (default 'pass')\r\n"
       ]
      },
      {
       "output_type": "stream",
       "stream": "stdout",
       "text": [
        "/home/wd15/anaconda/lib/python2.7/timeit.py:29: MaximumIterationWarning: Iterations: 101. Relative error: 52.6294\r\n",
        "  \r\n"
       ]
      },
      {
       "output_type": "stream",
       "stream": "stdout",
       "text": [
        "/home/wd15/anaconda/lib/python2.7/timeit.py:23: MaximumIterationWarning: Iterations: 201. Relative error: 0.000650014\r\n",
        "  statement: statement to be timed (default 'pass')\r\n"
       ]
      },
      {
       "output_type": "stream",
       "stream": "stdout",
       "text": [
        "/home/wd15/anaconda/lib/python2.7/timeit.py:29: MaximumIterationWarning: Iterations: 201. Relative error: 0.000650014\r\n",
        "  \r\n"
       ]
      },
      {
       "output_type": "stream",
       "stream": "stdout",
       "text": [
        "/home/wd15/anaconda/lib/python2.7/timeit.py:23: MaximumIterationWarning: Iterations: 401. Relative error: 1.63231e-11\r\n",
        "  statement: statement to be timed (default 'pass')\r\n"
       ]
      },
      {
       "output_type": "stream",
       "stream": "stdout",
       "text": [
        "/home/wd15/anaconda/lib/python2.7/timeit.py:29: MaximumIterationWarning: Iterations: 401. Relative error: 1.63231e-11\r\n",
        "  \r\n"
       ]
      },
      {
       "output_type": "stream",
       "stream": "stdout",
       "text": [
        "/home/wd15/anaconda/lib/python2.7/timeit.py:23: StagnatedSolverWarning: The solver stagnated. Iterations: 401. Relative error: 1.31603e-11\r\n",
        "  statement: statement to be timed (default 'pass')\r\n"
       ]
      },
      {
       "output_type": "stream",
       "stream": "stdout",
       "text": [
        "/home/wd15/anaconda/lib/python2.7/timeit.py:29: StagnatedSolverWarning: The solver stagnated. Iterations: 401. Relative error: 1.31603e-11\r\n",
        "  \r\n"
       ]
      },
      {
       "output_type": "stream",
       "stream": "stdout",
       "text": [
        "/home/wd15/anaconda/lib/python2.7/timeit.py:23: MaximumIterationWarning: Iterations: 101. Relative error: 1222.68\r\n",
        "  statement: statement to be timed (default 'pass')\r\n"
       ]
      },
      {
       "output_type": "stream",
       "stream": "stdout",
       "text": [
        "/home/wd15/anaconda/lib/python2.7/timeit.py:29: MaximumIterationWarning: Iterations: 101. Relative error: 1222.68\r\n",
        "  \r\n"
       ]
      },
      {
       "output_type": "stream",
       "stream": "stdout",
       "text": [
        "/home/wd15/anaconda/lib/python2.7/timeit.py:23: MaximumIterationWarning: Iterations: 201. Relative error: 0.381838\r\n",
        "  statement: statement to be timed (default 'pass')\r\n"
       ]
      },
      {
       "output_type": "stream",
       "stream": "stdout",
       "text": [
        "/home/wd15/anaconda/lib/python2.7/timeit.py:29: MaximumIterationWarning: Iterations: 201. Relative error: 0.381838\r\n",
        "  \r\n"
       ]
      },
      {
       "output_type": "stream",
       "stream": "stdout",
       "text": [
        "/home/wd15/anaconda/lib/python2.7/timeit.py:23: MaximumIterationWarning: Iterations: 401. Relative error: 5.15039e-09\r\n",
        "  statement: statement to be timed (default 'pass')\r\n"
       ]
      },
      {
       "output_type": "stream",
       "stream": "stdout",
       "text": [
        "/home/wd15/anaconda/lib/python2.7/timeit.py:29: MaximumIterationWarning: Iterations: 401. Relative error: 5.15039e-09\r\n",
        "  \r\n"
       ]
      },
      {
       "output_type": "stream",
       "stream": "stdout",
       "text": [
        "/home/wd15/anaconda/lib/python2.7/timeit.py:23: StagnatedSolverWarning: The solver stagnated. Iterations: 546. Relative error: 6.1597e-12\r\n",
        "  statement: statement to be timed (default 'pass')\r\n"
       ]
      },
      {
       "output_type": "stream",
       "stream": "stdout",
       "text": [
        "/home/wd15/anaconda/lib/python2.7/timeit.py:29: StagnatedSolverWarning: The solver stagnated. Iterations: 546. Relative error: 6.1597e-12\r\n",
        "  \r\n"
       ]
      },
      {
       "output_type": "stream",
       "stream": "stdout",
       "text": [
        "/home/wd15/anaconda/lib/python2.7/timeit.py:23: MaximumIterationWarning: Iterations: 101. Relative error: 2630.36\r\n",
        "  statement: statement to be timed (default 'pass')\r\n"
       ]
      },
      {
       "output_type": "stream",
       "stream": "stdout",
       "text": [
        "/home/wd15/anaconda/lib/python2.7/timeit.py:29: MaximumIterationWarning: Iterations: 101. Relative error: 2630.36\r\n",
        "  \r\n"
       ]
      },
      {
       "output_type": "stream",
       "stream": "stdout",
       "text": [
        "/home/wd15/anaconda/lib/python2.7/timeit.py:23: MaximumIterationWarning: Iterations: 201. Relative error: 6.97832\r\n",
        "  statement: statement to be timed (default 'pass')\r\n"
       ]
      },
      {
       "output_type": "stream",
       "stream": "stdout",
       "text": [
        "/home/wd15/anaconda/lib/python2.7/timeit.py:29: MaximumIterationWarning: Iterations: 201. Relative error: 6.97832\r\n",
        "  \r\n"
       ]
      },
      {
       "output_type": "stream",
       "stream": "stdout",
       "text": [
        "/home/wd15/anaconda/lib/python2.7/timeit.py:23: MaximumIterationWarning: Iterations: 401. Relative error: 1.30938e-05\r\n",
        "  statement: statement to be timed (default 'pass')\r\n"
       ]
      },
      {
       "output_type": "stream",
       "stream": "stdout",
       "text": [
        "/home/wd15/anaconda/lib/python2.7/timeit.py:29: MaximumIterationWarning: Iterations: 401. Relative error: 1.30938e-05\r\n",
        "  \r\n"
       ]
      },
      {
       "output_type": "stream",
       "stream": "stdout",
       "text": [
        "/home/wd15/anaconda/lib/python2.7/timeit.py:23: StagnatedSolverWarning: The solver stagnated. Iterations: 667. Relative error: 2.05959e-11\r\n",
        "  statement: statement to be timed (default 'pass')\r\n"
       ]
      },
      {
       "output_type": "stream",
       "stream": "stdout",
       "text": [
        "/home/wd15/anaconda/lib/python2.7/timeit.py:29: StagnatedSolverWarning: The solver stagnated. Iterations: 667. Relative error: 2.05959e-11\r\n",
        "  \r\n"
       ]
      },
      {
       "output_type": "stream",
       "stream": "stdout",
       "text": [
        "/home/wd15/anaconda/lib/python2.7/timeit.py:23: MaximumIterationWarning: Iterations: 101. Relative error: 9923.01\r\n",
        "  statement: statement to be timed (default 'pass')\r\n"
       ]
      },
      {
       "output_type": "stream",
       "stream": "stdout",
       "text": [
        "/home/wd15/anaconda/lib/python2.7/timeit.py:29: MaximumIterationWarning: Iterations: 101. Relative error: 9923.01\r\n",
        "  \r\n"
       ]
      },
      {
       "output_type": "stream",
       "stream": "stdout",
       "text": [
        "/home/wd15/anaconda/lib/python2.7/timeit.py:23: MaximumIterationWarning: Iterations: 201. Relative error: 88.8965\r\n",
        "  statement: statement to be timed (default 'pass')\r\n"
       ]
      },
      {
       "output_type": "stream",
       "stream": "stdout",
       "text": [
        "/home/wd15/anaconda/lib/python2.7/timeit.py:29: MaximumIterationWarning: Iterations: 201. Relative error: 88.8965\r\n",
        "  \r\n"
       ]
      },
      {
       "output_type": "stream",
       "stream": "stdout",
       "text": [
        "/home/wd15/anaconda/lib/python2.7/timeit.py:23: MaximumIterationWarning: Iterations: 401. Relative error: 0.00132848\r\n",
        "  statement: statement to be timed (default 'pass')\r\n"
       ]
      },
      {
       "output_type": "stream",
       "stream": "stdout",
       "text": [
        "/home/wd15/anaconda/lib/python2.7/timeit.py:29: MaximumIterationWarning: Iterations: 401. Relative error: 0.00132848\r\n",
        "  \r\n"
       ]
      },
      {
       "output_type": "stream",
       "stream": "stdout",
       "text": [
        "/home/wd15/anaconda/lib/python2.7/timeit.py:23: StagnatedSolverWarning: The solver stagnated. Iterations: 782. Relative error: 6.23627e-11\r\n",
        "  statement: statement to be timed (default 'pass')\r\n"
       ]
      },
      {
       "output_type": "stream",
       "stream": "stdout",
       "text": [
        "/home/wd15/anaconda/lib/python2.7/timeit.py:29: StagnatedSolverWarning: The solver stagnated. Iterations: 782. Relative error: 6.23627e-11\r\n",
        "  \r\n"
       ]
      },
      {
       "output_type": "stream",
       "stream": "stdout",
       "text": [
        "/home/wd15/anaconda/lib/python2.7/timeit.py:23: MaximumIterationWarning: Iterations: 101. Relative error: 15303.3\r\n",
        "  statement: statement to be timed (default 'pass')\r\n"
       ]
      },
      {
       "output_type": "stream",
       "stream": "stdout",
       "text": [
        "/home/wd15/anaconda/lib/python2.7/timeit.py:29: MaximumIterationWarning: Iterations: 101. Relative error: 15303.3\r\n",
        "  \r\n"
       ]
      },
      {
       "output_type": "stream",
       "stream": "stdout",
       "text": [
        "/home/wd15/anaconda/lib/python2.7/timeit.py:23: MaximumIterationWarning: Iterations: 201. Relative error: 725.629\r\n",
        "  statement: statement to be timed (default 'pass')\r\n"
       ]
      },
      {
       "output_type": "stream",
       "stream": "stdout",
       "text": [
        "/home/wd15/anaconda/lib/python2.7/timeit.py:29: MaximumIterationWarning: Iterations: 201. Relative error: 725.629\r\n",
        "  \r\n"
       ]
      },
      {
       "output_type": "stream",
       "stream": "stdout",
       "text": [
        "/home/wd15/anaconda/lib/python2.7/timeit.py:23: MaximumIterationWarning: Iterations: 401. Relative error: 0.01752\r\n",
        "  statement: statement to be timed (default 'pass')\r\n"
       ]
      },
      {
       "output_type": "stream",
       "stream": "stdout",
       "text": [
        "/home/wd15/anaconda/lib/python2.7/timeit.py:29: MaximumIterationWarning: Iterations: 401. Relative error: 0.01752\r\n",
        "  \r\n"
       ]
      },
      {
       "output_type": "stream",
       "stream": "stdout",
       "text": [
        "/home/wd15/anaconda/lib/python2.7/timeit.py:23: MaximumIterationWarning: Iterations: 801. Relative error: 5.58104e-07\r\n",
        "  statement: statement to be timed (default 'pass')\r\n"
       ]
      },
      {
       "output_type": "stream",
       "stream": "stdout",
       "text": [
        "/home/wd15/anaconda/lib/python2.7/timeit.py:29: MaximumIterationWarning: Iterations: 801. Relative error: 5.58104e-07\r\n",
        "  \r\n"
       ]
      },
      {
       "output_type": "stream",
       "stream": "stdout",
       "text": [
        "/home/wd15/anaconda/lib/python2.7/timeit.py:23: MaximumIterationWarning: Iterations: 101. Relative error: 17086.5\r\n",
        "  statement: statement to be timed (default 'pass')\r\n"
       ]
      },
      {
       "output_type": "stream",
       "stream": "stdout",
       "text": [
        "/home/wd15/anaconda/lib/python2.7/timeit.py:29: MaximumIterationWarning: Iterations: 101. Relative error: 17086.5\r\n",
        "  \r\n"
       ]
      },
      {
       "output_type": "stream",
       "stream": "stdout",
       "text": [
        "/home/wd15/anaconda/lib/python2.7/timeit.py:23: MaximumIterationWarning: Iterations: 201. Relative error: 1579.89\r\n",
        "  statement: statement to be timed (default 'pass')\r\n"
       ]
      },
      {
       "output_type": "stream",
       "stream": "stdout",
       "text": [
        "/home/wd15/anaconda/lib/python2.7/timeit.py:29: MaximumIterationWarning: Iterations: 201. Relative error: 1579.89\r\n",
        "  \r\n"
       ]
      },
      {
       "output_type": "stream",
       "stream": "stdout",
       "text": [
        "/home/wd15/anaconda/lib/python2.7/timeit.py:23: MaximumIterationWarning: Iterations: 401. Relative error: 0.623549\r\n",
        "  statement: statement to be timed (default 'pass')\r\n"
       ]
      },
      {
       "output_type": "stream",
       "stream": "stdout",
       "text": [
        "/home/wd15/anaconda/lib/python2.7/timeit.py:29: MaximumIterationWarning: Iterations: 401. Relative error: 0.623549\r\n",
        "  \r\n"
       ]
      },
      {
       "output_type": "stream",
       "stream": "stdout",
       "text": [
        "/home/wd15/anaconda/lib/python2.7/timeit.py:23: MaximumIterationWarning: Iterations: 801. Relative error: 2.82057e-09\r\n",
        "  statement: statement to be timed (default 'pass')\r\n"
       ]
      },
      {
       "output_type": "stream",
       "stream": "stdout",
       "text": [
        "/home/wd15/anaconda/lib/python2.7/timeit.py:29: MaximumIterationWarning: Iterations: 801. Relative error: 2.82057e-09\r\n",
        "  \r\n"
       ]
      }
     ],
     "prompt_number": 263
    },
    {
     "cell_type": "code",
     "collapsed": false,
     "input": [
      "df = pd.read_csv('laptop_runtimes_nproc.csv')"
     ],
     "language": "python",
     "metadata": {},
     "outputs": [],
     "prompt_number": 3
    },
    {
     "cell_type": "code",
     "collapsed": false,
     "input": [
      "f = plt.figure(figsize=(20, 5))\n",
      "ax1 = f.add_subplot(141)\n",
      "ax2 = f.add_subplot(142)\n",
      "ax3 = f.add_subplot(143)\n",
      "ax4 = f.add_subplot(144)\n",
      "\n",
      "for iterations, ax in zip((800, 400, 200, 100), (ax1, ax2, ax3, ax4)):\n",
      "    for N in (10, 20, 30, 40, 50, 60, 70, 80):\n",
      "        sub_df = df[(df['iterations'] == iterations) & (df['N'] == N) & (df['suite'] == 'trilinos')].sort('np')\n",
      "        nprocs = sub_df['np']\n",
      "        speed_up =  np.array(sub_df[sub_df['np'] == 1]['run time']) / np.array(sub_df['run time'])\n",
      "        ax.semilogx(sub_df['np'], speed_up, label='$N={0}$'.format(N))\n",
      "\n",
      "    ax.semilogx((1, 8), (1, 8), 'k--')\n",
      "    ax.set_ylabel(\"Speed Up\")\n",
      "    ax.set_xlabel(\"Parallel Nodes\")\n",
      "    ax.legend(loc=\"upper left\")\n",
      "    ax.set_ylim(ymax=3)\n",
      "    ax.set_title(\"iterations={0}\".format(iterations))"
     ],
     "language": "python",
     "metadata": {},
     "outputs": [
      {
       "metadata": {},
       "output_type": "display_data",
       "png": "[encoded data removed]",
       "text": [
        "<matplotlib.figure.Figure at 0x4987fd0>"
       ]
      }
     ],
     "prompt_number": 5
    },
    {
     "cell_type": "markdown",
     "metadata": {},
     "source": [
      "A few things from the graphs:\n",
      "\n",
      " * `N=10` is slow because the overlap is such a high proportion of the number of cells\n",
      " * `N=80` is slow because the global communication cost is becoming excessive.\n",
      " \n",
      "The graphs above really just confirm that there is an issue with communication. The load average when the laptop is not running Python jobs is about 0.5."
     ]
    }
   ],
   "metadata": {}
  }
 ]
}